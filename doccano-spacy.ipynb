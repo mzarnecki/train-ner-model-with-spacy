{
 "cells": [
  {
   "cell_type": "markdown",
   "id": "f92c6224b97caf98",
   "metadata": {},
   "source": [
    "## Train Named Entity Recognition model with SpaCy\n",
    "This project shows how to extract information from text documents using transfer learning with pretrained model from SpaCy library.\n"
   ]
  },
  {
   "cell_type": "code",
   "id": "227e26701bb2b5a8",
   "metadata": {
    "ExecuteTime": {
     "end_time": "2025-02-15T04:49:57.041964Z",
     "start_time": "2025-02-15T04:49:51.704354Z"
    }
   },
   "source": [
    "! pip install spacy\n",
    "! pip install mlflow\n",
    "! pip install scikit-learn\n"
   ],
   "outputs": [
    {
     "name": "stdout",
     "output_type": "stream",
     "text": [
      "Requirement already satisfied: spacy in /home/michal/anaconda3/lib/python3.12/site-packages (3.8.4)\r\n",
      "Requirement already satisfied: spacy-legacy<3.1.0,>=3.0.11 in /home/michal/anaconda3/lib/python3.12/site-packages (from spacy) (3.0.12)\r\n",
      "Requirement already satisfied: spacy-loggers<2.0.0,>=1.0.0 in /home/michal/anaconda3/lib/python3.12/site-packages (from spacy) (1.0.5)\r\n",
      "Requirement already satisfied: murmurhash<1.1.0,>=0.28.0 in /home/michal/anaconda3/lib/python3.12/site-packages (from spacy) (1.0.10)\r\n",
      "Requirement already satisfied: cymem<2.1.0,>=2.0.2 in /home/michal/anaconda3/lib/python3.12/site-packages (from spacy) (2.0.8)\r\n",
      "Requirement already satisfied: preshed<3.1.0,>=3.0.2 in /home/michal/anaconda3/lib/python3.12/site-packages (from spacy) (3.0.9)\r\n",
      "Requirement already satisfied: thinc<8.4.0,>=8.3.4 in /home/michal/anaconda3/lib/python3.12/site-packages (from spacy) (8.3.4)\r\n",
      "Requirement already satisfied: wasabi<1.2.0,>=0.9.1 in /home/michal/anaconda3/lib/python3.12/site-packages (from spacy) (1.1.3)\r\n",
      "Requirement already satisfied: srsly<3.0.0,>=2.4.3 in /home/michal/anaconda3/lib/python3.12/site-packages (from spacy) (2.4.8)\r\n",
      "Requirement already satisfied: catalogue<2.1.0,>=2.0.6 in /home/michal/anaconda3/lib/python3.12/site-packages (from spacy) (2.0.10)\r\n",
      "Requirement already satisfied: weasel<0.5.0,>=0.1.0 in /home/michal/anaconda3/lib/python3.12/site-packages (from spacy) (0.4.1)\r\n",
      "Requirement already satisfied: typer<1.0.0,>=0.3.0 in /home/michal/anaconda3/lib/python3.12/site-packages (from spacy) (0.13.0)\r\n",
      "Requirement already satisfied: tqdm<5.0.0,>=4.38.0 in /home/michal/anaconda3/lib/python3.12/site-packages (from spacy) (4.66.5)\r\n",
      "Requirement already satisfied: numpy>=1.19.0 in /home/michal/anaconda3/lib/python3.12/site-packages (from spacy) (1.26.3)\r\n",
      "Requirement already satisfied: requests<3.0.0,>=2.13.0 in /home/michal/anaconda3/lib/python3.12/site-packages (from spacy) (2.32.3)\r\n",
      "Requirement already satisfied: pydantic!=1.8,!=1.8.1,<3.0.0,>=1.7.4 in /home/michal/anaconda3/lib/python3.12/site-packages (from spacy) (2.10.6)\r\n",
      "Requirement already satisfied: jinja2 in /home/michal/anaconda3/lib/python3.12/site-packages (from spacy) (3.1.4)\r\n",
      "Requirement already satisfied: setuptools in /home/michal/anaconda3/lib/python3.12/site-packages (from spacy) (75.1.0)\r\n",
      "Requirement already satisfied: packaging>=20.0 in /home/michal/anaconda3/lib/python3.12/site-packages (from spacy) (24.1)\r\n",
      "Requirement already satisfied: langcodes<4.0.0,>=3.2.0 in /home/michal/anaconda3/lib/python3.12/site-packages (from spacy) (3.4.1)\r\n",
      "Requirement already satisfied: language-data>=1.2 in /home/michal/anaconda3/lib/python3.12/site-packages (from langcodes<4.0.0,>=3.2.0->spacy) (1.2.0)\r\n",
      "Requirement already satisfied: annotated-types>=0.6.0 in /home/michal/anaconda3/lib/python3.12/site-packages (from pydantic!=1.8,!=1.8.1,<3.0.0,>=1.7.4->spacy) (0.6.0)\r\n",
      "Requirement already satisfied: pydantic-core==2.27.2 in /home/michal/anaconda3/lib/python3.12/site-packages (from pydantic!=1.8,!=1.8.1,<3.0.0,>=1.7.4->spacy) (2.27.2)\r\n",
      "Requirement already satisfied: typing-extensions>=4.12.2 in /home/michal/anaconda3/lib/python3.12/site-packages (from pydantic!=1.8,!=1.8.1,<3.0.0,>=1.7.4->spacy) (4.12.2)\r\n",
      "Requirement already satisfied: charset-normalizer<4,>=2 in /home/michal/anaconda3/lib/python3.12/site-packages (from requests<3.0.0,>=2.13.0->spacy) (3.3.2)\r\n",
      "Requirement already satisfied: idna<4,>=2.5 in /home/michal/anaconda3/lib/python3.12/site-packages (from requests<3.0.0,>=2.13.0->spacy) (3.7)\r\n",
      "Requirement already satisfied: urllib3<3,>=1.21.1 in /home/michal/anaconda3/lib/python3.12/site-packages (from requests<3.0.0,>=2.13.0->spacy) (2.2.3)\r\n",
      "Requirement already satisfied: certifi>=2017.4.17 in /home/michal/anaconda3/lib/python3.12/site-packages (from requests<3.0.0,>=2.13.0->spacy) (2024.12.14)\r\n",
      "Requirement already satisfied: blis<1.3.0,>=1.2.0 in /home/michal/anaconda3/lib/python3.12/site-packages (from thinc<8.4.0,>=8.3.4->spacy) (1.2.0)\r\n",
      "Requirement already satisfied: confection<1.0.0,>=0.0.1 in /home/michal/anaconda3/lib/python3.12/site-packages (from thinc<8.4.0,>=8.3.4->spacy) (0.1.5)\r\n",
      "Requirement already satisfied: click>=8.0.0 in /home/michal/anaconda3/lib/python3.12/site-packages (from typer<1.0.0,>=0.3.0->spacy) (8.1.7)\r\n",
      "Requirement already satisfied: shellingham>=1.3.0 in /home/michal/anaconda3/lib/python3.12/site-packages (from typer<1.0.0,>=0.3.0->spacy) (1.5.4)\r\n",
      "Requirement already satisfied: rich>=10.11.0 in /home/michal/anaconda3/lib/python3.12/site-packages (from typer<1.0.0,>=0.3.0->spacy) (13.7.1)\r\n",
      "Requirement already satisfied: cloudpathlib<1.0.0,>=0.7.0 in /home/michal/anaconda3/lib/python3.12/site-packages (from weasel<0.5.0,>=0.1.0->spacy) (0.20.0)\r\n",
      "Requirement already satisfied: smart-open<8.0.0,>=5.2.1 in /home/michal/anaconda3/lib/python3.12/site-packages (from weasel<0.5.0,>=0.1.0->spacy) (5.2.1)\r\n",
      "Requirement already satisfied: MarkupSafe>=2.0 in /home/michal/anaconda3/lib/python3.12/site-packages (from jinja2->spacy) (2.1.3)\r\n",
      "Requirement already satisfied: marisa-trie>=0.7.7 in /home/michal/anaconda3/lib/python3.12/site-packages (from language-data>=1.2->langcodes<4.0.0,>=3.2.0->spacy) (1.2.1)\r\n",
      "Requirement already satisfied: markdown-it-py>=2.2.0 in /home/michal/anaconda3/lib/python3.12/site-packages (from rich>=10.11.0->typer<1.0.0,>=0.3.0->spacy) (2.2.0)\r\n",
      "Requirement already satisfied: pygments<3.0.0,>=2.13.0 in /home/michal/anaconda3/lib/python3.12/site-packages (from rich>=10.11.0->typer<1.0.0,>=0.3.0->spacy) (2.15.1)\r\n",
      "Requirement already satisfied: mdurl~=0.1 in /home/michal/anaconda3/lib/python3.12/site-packages (from markdown-it-py>=2.2.0->rich>=10.11.0->typer<1.0.0,>=0.3.0->spacy) (0.1.0)\r\n",
      "Requirement already satisfied: mlflow in /home/michal/anaconda3/lib/python3.12/site-packages (2.19.0)\r\n",
      "Requirement already satisfied: mlflow-skinny==2.19.0 in /home/michal/anaconda3/lib/python3.12/site-packages (from mlflow) (2.19.0)\r\n",
      "Requirement already satisfied: Flask<4 in /home/michal/anaconda3/lib/python3.12/site-packages (from mlflow) (2.1.3)\r\n",
      "Requirement already satisfied: Jinja2<4,>=2.11 in /home/michal/anaconda3/lib/python3.12/site-packages (from mlflow) (3.1.4)\r\n",
      "Requirement already satisfied: alembic!=1.10.0,<2 in /home/michal/anaconda3/lib/python3.12/site-packages (from mlflow) (1.14.0)\r\n",
      "Requirement already satisfied: docker<8,>=4.0.0 in /home/michal/anaconda3/lib/python3.12/site-packages (from mlflow) (7.1.0)\r\n",
      "Requirement already satisfied: graphene<4 in /home/michal/anaconda3/lib/python3.12/site-packages (from mlflow) (3.4.3)\r\n",
      "Requirement already satisfied: gunicorn<24 in /home/michal/anaconda3/lib/python3.12/site-packages (from mlflow) (20.1.0)\r\n",
      "Requirement already satisfied: markdown<4,>=3.3 in /home/michal/anaconda3/lib/python3.12/site-packages (from mlflow) (3.4.1)\r\n",
      "Requirement already satisfied: matplotlib<4 in /home/michal/anaconda3/lib/python3.12/site-packages (from mlflow) (3.9.2)\r\n",
      "Requirement already satisfied: numpy<3 in /home/michal/anaconda3/lib/python3.12/site-packages (from mlflow) (1.26.3)\r\n",
      "Requirement already satisfied: pandas<3 in /home/michal/anaconda3/lib/python3.12/site-packages (from mlflow) (1.5.3)\r\n",
      "Requirement already satisfied: pyarrow<19,>=4.0.0 in /home/michal/anaconda3/lib/python3.12/site-packages (from mlflow) (16.1.0)\r\n",
      "Requirement already satisfied: scikit-learn<2 in /home/michal/anaconda3/lib/python3.12/site-packages (from mlflow) (1.5.1)\r\n",
      "Requirement already satisfied: scipy<2 in /home/michal/anaconda3/lib/python3.12/site-packages (from mlflow) (1.13.1)\r\n",
      "Requirement already satisfied: sqlalchemy<3,>=1.4.0 in /home/michal/anaconda3/lib/python3.12/site-packages (from mlflow) (2.0.37)\r\n",
      "Requirement already satisfied: cachetools<6,>=5.0.0 in /home/michal/anaconda3/lib/python3.12/site-packages (from mlflow-skinny==2.19.0->mlflow) (5.3.3)\r\n",
      "Requirement already satisfied: click<9,>=7.0 in /home/michal/anaconda3/lib/python3.12/site-packages (from mlflow-skinny==2.19.0->mlflow) (8.1.7)\r\n",
      "Requirement already satisfied: cloudpickle<4 in /home/michal/anaconda3/lib/python3.12/site-packages (from mlflow-skinny==2.19.0->mlflow) (3.0.0)\r\n",
      "Requirement already satisfied: databricks-sdk<1,>=0.20.0 in /home/michal/anaconda3/lib/python3.12/site-packages (from mlflow-skinny==2.19.0->mlflow) (0.40.0)\r\n",
      "Requirement already satisfied: gitpython<4,>=3.1.9 in /home/michal/anaconda3/lib/python3.12/site-packages (from mlflow-skinny==2.19.0->mlflow) (3.1.43)\r\n",
      "Requirement already satisfied: importlib_metadata!=4.7.0,<9,>=3.7.0 in /home/michal/anaconda3/lib/python3.12/site-packages (from mlflow-skinny==2.19.0->mlflow) (6.11.0)\r\n",
      "Requirement already satisfied: opentelemetry-api<3,>=1.9.0 in /home/michal/anaconda3/lib/python3.12/site-packages (from mlflow-skinny==2.19.0->mlflow) (1.29.0)\r\n",
      "Requirement already satisfied: opentelemetry-sdk<3,>=1.9.0 in /home/michal/anaconda3/lib/python3.12/site-packages (from mlflow-skinny==2.19.0->mlflow) (1.29.0)\r\n",
      "Requirement already satisfied: packaging<25 in /home/michal/anaconda3/lib/python3.12/site-packages (from mlflow-skinny==2.19.0->mlflow) (24.1)\r\n",
      "Requirement already satisfied: protobuf<6,>=3.12.0 in /home/michal/anaconda3/lib/python3.12/site-packages (from mlflow-skinny==2.19.0->mlflow) (5.29.1)\r\n",
      "Requirement already satisfied: pyyaml<7,>=5.1 in /home/michal/anaconda3/lib/python3.12/site-packages (from mlflow-skinny==2.19.0->mlflow) (6.0.1)\r\n",
      "Requirement already satisfied: requests<3,>=2.17.3 in /home/michal/anaconda3/lib/python3.12/site-packages (from mlflow-skinny==2.19.0->mlflow) (2.32.3)\r\n",
      "Requirement already satisfied: sqlparse<1,>=0.4.0 in /home/michal/anaconda3/lib/python3.12/site-packages (from mlflow-skinny==2.19.0->mlflow) (0.5.3)\r\n",
      "Requirement already satisfied: Mako in /home/michal/anaconda3/lib/python3.12/site-packages (from alembic!=1.10.0,<2->mlflow) (1.3.6)\r\n",
      "Requirement already satisfied: typing-extensions>=4 in /home/michal/anaconda3/lib/python3.12/site-packages (from alembic!=1.10.0,<2->mlflow) (4.12.2)\r\n",
      "Requirement already satisfied: urllib3>=1.26.0 in /home/michal/anaconda3/lib/python3.12/site-packages (from docker<8,>=4.0.0->mlflow) (2.2.3)\r\n",
      "Requirement already satisfied: Werkzeug>=2.0 in /home/michal/anaconda3/lib/python3.12/site-packages (from Flask<4->mlflow) (2.3.8)\r\n",
      "Requirement already satisfied: itsdangerous>=2.0 in /home/michal/anaconda3/lib/python3.12/site-packages (from Flask<4->mlflow) (2.2.0)\r\n",
      "Requirement already satisfied: graphql-core<3.3,>=3.1 in /home/michal/anaconda3/lib/python3.12/site-packages (from graphene<4->mlflow) (3.2.5)\r\n",
      "Requirement already satisfied: graphql-relay<3.3,>=3.1 in /home/michal/anaconda3/lib/python3.12/site-packages (from graphene<4->mlflow) (3.2.0)\r\n",
      "Requirement already satisfied: python-dateutil<3,>=2.7.0 in /home/michal/anaconda3/lib/python3.12/site-packages (from graphene<4->mlflow) (2.9.0.post0)\r\n",
      "Requirement already satisfied: setuptools>=3.0 in /home/michal/anaconda3/lib/python3.12/site-packages (from gunicorn<24->mlflow) (75.1.0)\r\n",
      "Requirement already satisfied: MarkupSafe>=2.0 in /home/michal/anaconda3/lib/python3.12/site-packages (from Jinja2<4,>=2.11->mlflow) (2.1.3)\r\n",
      "Requirement already satisfied: contourpy>=1.0.1 in /home/michal/anaconda3/lib/python3.12/site-packages (from matplotlib<4->mlflow) (1.2.0)\r\n",
      "Requirement already satisfied: cycler>=0.10 in /home/michal/anaconda3/lib/python3.12/site-packages (from matplotlib<4->mlflow) (0.11.0)\r\n",
      "Requirement already satisfied: fonttools>=4.22.0 in /home/michal/anaconda3/lib/python3.12/site-packages (from matplotlib<4->mlflow) (4.51.0)\r\n",
      "Requirement already satisfied: kiwisolver>=1.3.1 in /home/michal/anaconda3/lib/python3.12/site-packages (from matplotlib<4->mlflow) (1.4.4)\r\n",
      "Requirement already satisfied: pillow>=8 in /home/michal/anaconda3/lib/python3.12/site-packages (from matplotlib<4->mlflow) (10.4.0)\r\n",
      "Requirement already satisfied: pyparsing>=2.3.1 in /home/michal/anaconda3/lib/python3.12/site-packages (from matplotlib<4->mlflow) (3.1.2)\r\n",
      "Requirement already satisfied: pytz>=2020.1 in /home/michal/anaconda3/lib/python3.12/site-packages (from pandas<3->mlflow) (2024.1)\r\n",
      "Requirement already satisfied: joblib>=1.2.0 in /home/michal/anaconda3/lib/python3.12/site-packages (from scikit-learn<2->mlflow) (1.4.2)\r\n",
      "Requirement already satisfied: threadpoolctl>=3.1.0 in /home/michal/anaconda3/lib/python3.12/site-packages (from scikit-learn<2->mlflow) (3.5.0)\r\n",
      "Requirement already satisfied: greenlet!=0.4.17 in /home/michal/anaconda3/lib/python3.12/site-packages (from sqlalchemy<3,>=1.4.0->mlflow) (3.1.1)\r\n",
      "Requirement already satisfied: google-auth~=2.0 in /home/michal/anaconda3/lib/python3.12/site-packages (from databricks-sdk<1,>=0.20.0->mlflow-skinny==2.19.0->mlflow) (2.36.0)\r\n",
      "Requirement already satisfied: gitdb<5,>=4.0.1 in /home/michal/anaconda3/lib/python3.12/site-packages (from gitpython<4,>=3.1.9->mlflow-skinny==2.19.0->mlflow) (4.0.7)\r\n",
      "Requirement already satisfied: zipp>=0.5 in /home/michal/anaconda3/lib/python3.12/site-packages (from importlib_metadata!=4.7.0,<9,>=3.7.0->mlflow-skinny==2.19.0->mlflow) (3.17.0)\r\n",
      "Requirement already satisfied: deprecated>=1.2.6 in /home/michal/anaconda3/lib/python3.12/site-packages (from opentelemetry-api<3,>=1.9.0->mlflow-skinny==2.19.0->mlflow) (1.2.15)\r\n",
      "Requirement already satisfied: opentelemetry-semantic-conventions==0.50b0 in /home/michal/anaconda3/lib/python3.12/site-packages (from opentelemetry-sdk<3,>=1.9.0->mlflow-skinny==2.19.0->mlflow) (0.50b0)\r\n",
      "Requirement already satisfied: six>=1.5 in /home/michal/anaconda3/lib/python3.12/site-packages (from python-dateutil<3,>=2.7.0->graphene<4->mlflow) (1.16.0)\r\n",
      "Requirement already satisfied: charset-normalizer<4,>=2 in /home/michal/anaconda3/lib/python3.12/site-packages (from requests<3,>=2.17.3->mlflow-skinny==2.19.0->mlflow) (3.3.2)\r\n",
      "Requirement already satisfied: idna<4,>=2.5 in /home/michal/anaconda3/lib/python3.12/site-packages (from requests<3,>=2.17.3->mlflow-skinny==2.19.0->mlflow) (3.7)\r\n",
      "Requirement already satisfied: certifi>=2017.4.17 in /home/michal/anaconda3/lib/python3.12/site-packages (from requests<3,>=2.17.3->mlflow-skinny==2.19.0->mlflow) (2024.12.14)\r\n",
      "Requirement already satisfied: wrapt<2,>=1.10 in /home/michal/anaconda3/lib/python3.12/site-packages (from deprecated>=1.2.6->opentelemetry-api<3,>=1.9.0->mlflow-skinny==2.19.0->mlflow) (1.14.1)\r\n",
      "Requirement already satisfied: smmap<5,>=3.0.1 in /home/michal/anaconda3/lib/python3.12/site-packages (from gitdb<5,>=4.0.1->gitpython<4,>=3.1.9->mlflow-skinny==2.19.0->mlflow) (4.0.0)\r\n",
      "Requirement already satisfied: pyasn1-modules>=0.2.1 in /home/michal/anaconda3/lib/python3.12/site-packages (from google-auth~=2.0->databricks-sdk<1,>=0.20.0->mlflow-skinny==2.19.0->mlflow) (0.2.8)\r\n",
      "Requirement already satisfied: rsa<5,>=3.1.4 in /home/michal/anaconda3/lib/python3.12/site-packages (from google-auth~=2.0->databricks-sdk<1,>=0.20.0->mlflow-skinny==2.19.0->mlflow) (4.9)\r\n",
      "Requirement already satisfied: pyasn1<0.5.0,>=0.4.6 in /home/michal/anaconda3/lib/python3.12/site-packages (from pyasn1-modules>=0.2.1->google-auth~=2.0->databricks-sdk<1,>=0.20.0->mlflow-skinny==2.19.0->mlflow) (0.4.8)\r\n",
      "Requirement already satisfied: scikit-learn in /home/michal/anaconda3/lib/python3.12/site-packages (1.5.1)\r\n",
      "Requirement already satisfied: numpy>=1.19.5 in /home/michal/anaconda3/lib/python3.12/site-packages (from scikit-learn) (1.26.3)\r\n",
      "Requirement already satisfied: scipy>=1.6.0 in /home/michal/anaconda3/lib/python3.12/site-packages (from scikit-learn) (1.13.1)\r\n",
      "Requirement already satisfied: joblib>=1.2.0 in /home/michal/anaconda3/lib/python3.12/site-packages (from scikit-learn) (1.4.2)\r\n",
      "Requirement already satisfied: threadpoolctl>=3.1.0 in /home/michal/anaconda3/lib/python3.12/site-packages (from scikit-learn) (3.5.0)\r\n"
     ]
    }
   ],
   "execution_count": 1
  },
  {
   "cell_type": "code",
   "id": "fe7c9527-9444-432d-84bd-0d1baa83ce0e",
   "metadata": {
    "ExecuteTime": {
     "end_time": "2025-02-15T05:38:45.590636Z",
     "start_time": "2025-02-15T05:38:45.544137Z"
    }
   },
   "source": [
    "# import libraries\n",
    "from spacy.util import filter_spans\n",
    "import json\n",
    "import spacy\n",
    "from spacy.tokens import DocBin\n",
    "from tqdm import tqdm\n",
    "from sklearn.model_selection import train_test_split\n",
    "import mlflow\n",
    "import mlflow.spacy\n",
    "import subprocess\n",
    "\n",
    "enable_mlflow = False\n",
    "\n",
    "if enable_mlflow:\n",
    "    # set the experiment id\n",
    "    mlflow.end_run()\n",
    "    mlflow.set_tracking_uri('http://localhost:5000')\n",
    "    mlflow.start_run()"
   ],
   "outputs": [],
   "execution_count": 33
  },
  {
   "cell_type": "code",
   "id": "fe16b362-f34f-4d63-9111-9dae75c7de4f",
   "metadata": {
    "ExecuteTime": {
     "end_time": "2025-02-15T05:38:47.882166Z",
     "start_time": "2025-02-15T05:38:47.875635Z"
    }
   },
   "source": [
    "with open('data/bitcoin_tweets_annotated.json', 'r') as f:\n",
    "    data = json.load(f)\n",
    "    \n",
    "print(data[0])"
   ],
   "outputs": [
    {
     "name": "stdout",
     "output_type": "stream",
     "text": [
      "{'id': 12887, 'text': 'Blue Ridge Bank and Your Corp shares halted by NYSE after #bitcoin ATM announcement https://t.co/xaaZmaJKiV @MyBlueRidgeBank… https://t.co/sgBxMkP1SI', 'label': [[0, 15, 'ORG'], [44, 52, 'CRYPTO']], 'Comments': []}\n"
     ]
    }
   ],
   "execution_count": 34
  },
  {
   "cell_type": "markdown",
   "id": "a3142f6d-a26e-4d6d-8258-8863990672b7",
   "metadata": {},
   "source": [
    "### Prepare training data"
   ]
  },
  {
   "cell_type": "code",
   "id": "0d6c9474-2b90-49ae-8764-c704fc27f0b1",
   "metadata": {
    "ExecuteTime": {
     "end_time": "2025-02-15T05:38:50.920185Z",
     "start_time": "2025-02-15T05:38:50.913062Z"
    }
   },
   "source": [
    "training_data = {\n",
    "    'classes' : ['CRYPTO_NAME', \"CRYPTO_PRICE\", \"URL\"],\n",
    "    'annotations' : []\n",
    "}\n",
    "\n",
    "for example in data:\n",
    "  data_row = {}\n",
    "  data_row['text'] = example['text']\n",
    "  data_row['entities'] = []\n",
    "\n",
    "  for annotation in example['label']:\n",
    "    start = annotation[0]\n",
    "    end = annotation[1]\n",
    "    label = annotation[2]\n",
    "    data_row['entities'].append((start, end, label))\n",
    "  training_data['annotations'].append(data_row)\n",
    "  \n",
    "print(training_data['annotations'][1])"
   ],
   "outputs": [
    {
     "name": "stdout",
     "output_type": "stream",
     "text": [
      "{'text': '😎 Today, that\\'s this #Thursday, we will do a \"🎬 Take 2\" with our friend @LeoWandersleb, #Btc #wallet #security expe… https://t.co/go6aDgRml5', 'entities': [(90, 94, 'CRYPTO')]}\n"
     ]
    }
   ],
   "execution_count": 35
  },
  {
   "cell_type": "code",
   "id": "04a9d92f",
   "metadata": {
    "ExecuteTime": {
     "end_time": "2025-02-15T05:38:53.509620Z",
     "start_time": "2025-02-15T05:38:53.271460Z"
    }
   },
   "source": [
    "nlp = spacy.blank(\"en\")\n",
    "\n",
    "def createDocBin(data: list)->DocBin:\n",
    "    doc_bin = DocBin()\n",
    "    for training_row  in tqdm(data):\n",
    "        text = training_row['text']\n",
    "        labels = training_row['entities']\n",
    "        doc = nlp.make_doc(text)\n",
    "        ents = []\n",
    "        for start, end, label in labels:\n",
    "            span = doc.char_span(start, end, label=label, alignment_mode=\"contract\")\n",
    "            if span is not None:\n",
    "                ents.append(span)\n",
    "        filtered_ents = filter_spans(ents)\n",
    "        doc.ents = filtered_ents\n",
    "        doc_bin.add(doc)\n",
    "    return doc_bin\n",
    "\n",
    "train, test = train_test_split(training_data['annotations'], test_size=0.2)\n",
    "\n",
    "doc_bin_train = createDocBin(train)\n",
    "doc_bin_test = createDocBin(test)\n",
    "doc_bin_train.to_disk(\"train_data.spacy\")\n",
    "doc_bin_test.to_disk(\"test_data.spacy\")"
   ],
   "outputs": [
    {
     "name": "stderr",
     "output_type": "stream",
     "text": [
      "100%|██████████| 56/56 [00:00<00:00, 1817.87it/s]\n",
      "100%|██████████| 14/14 [00:00<00:00, 2123.39it/s]\n"
     ]
    }
   ],
   "execution_count": 36
  },
  {
   "cell_type": "markdown",
   "id": "fd0a1434",
   "metadata": {},
   "source": [
    "### Run commands for training model"
   ]
  },
  {
   "cell_type": "code",
   "id": "bc16a921",
   "metadata": {
    "ExecuteTime": {
     "end_time": "2025-02-15T05:40:17.725110Z",
     "start_time": "2025-02-15T05:39:01.224094Z"
    }
   },
   "source": [
    "!python -m spacy init fill-config base_config.cfg config.cfg\n",
    "\n",
    "if enable_mlflow:\n",
    "    # Log the configuration file\n",
    "    mlflow.log_artifact(\"config.cfg\")\n",
    "\n",
    "# Train the model\n",
    "train_command = \"python -m spacy train config.cfg --output ./ --paths.train ./train_data.spacy --paths.dev ./test_data.spacy\"\n",
    "process = subprocess.Popen(train_command, shell=True, stdout=subprocess.PIPE, stderr=subprocess.PIPE)\n",
    "\n",
    "# Capture training output for metrics\n",
    "stdout, stderr = process.communicate()\n",
    "\n",
    "if process.returncode != 0:\n",
    "    print(\"Training failed:\", stderr.decode())\n",
    "else:\n",
    "    print(\"Training completed successfully.\")\n"
   ],
   "outputs": [
    {
     "name": "stdout",
     "output_type": "stream",
     "text": [
      "/home/michal/anaconda3/lib/python3.12/site-packages/transformers/utils/generic.py:441: FutureWarning: `torch.utils._pytree._register_pytree_node` is deprecated. Please use `torch.utils._pytree.register_pytree_node` instead.\r\n",
      "  _torch_pytree._register_pytree_node(\r\n",
      "/home/michal/anaconda3/lib/python3.12/site-packages/transformers/utils/generic.py:309: FutureWarning: `torch.utils._pytree._register_pytree_node` is deprecated. Please use `torch.utils._pytree.register_pytree_node` instead.\r\n",
      "  _torch_pytree._register_pytree_node(\r\n",
      "\u001B[38;5;2m✔ Auto-filled config with all values\u001B[0m\r\n",
      "\u001B[38;5;2m✔ Saved config\u001B[0m\r\n",
      "config.cfg\r\n",
      "You can now add your data and train your pipeline:\r\n",
      "python -m spacy train config.cfg --paths.train ./train.spacy --paths.dev ./dev.spacy\r\n",
      "Training completed successfully.\n"
     ]
    }
   ],
   "execution_count": 37
  },
  {
   "metadata": {
    "ExecuteTime": {
     "end_time": "2025-02-15T05:00:57.971743Z",
     "start_time": "2025-02-15T05:00:57.967727Z"
    }
   },
   "cell_type": "code",
   "source": [
    "# Log metrics from training (example: training loss)\n",
    "afterLoss = False\n",
    "lineNo = 0\n",
    "# capture metrics from output like below\n",
    "# E    #       LOSS TOK2VEC  LOSS NER  ENTS_F  ENTS_P  ENTS_R  SCORE\n",
    "# 0       0          0.00     48.50    0.00    0.00    0.00    0.00\n",
    "# 202    1200         77.08     22.51   70.37   73.08   67.86    0.70\n",
    "# 269    1400         23.71      6.65   78.57   78.57   78.57    0.79\n",
    "# 344    1600         23.57      3.46   84.62   91.67   78.57    0.85\n",
    "for line in stdout.decode().split('\\n'):\n",
    "    if \"LOSS\" not in line and not afterLoss:\n",
    "        continue\n",
    "    afterLoss = True\n",
    "    lineNo += 1\n",
    "    if lineNo <= 2:\n",
    "        continue\n",
    "    if \"Saved pipeline\" in line:\n",
    "        break\n",
    "    print(line)\n",
    "    values = line.split()\n",
    "    step = lineNo - 2\n",
    "    if enable_mlflow:\n",
    "        mlflow.log_metric(\"LOSS_TOK2VEC\", float(values[2]), step=step)\n",
    "        mlflow.log_metric(\"LOSS_NER\", float(values[3]), step=step)\n",
    "        mlflow.log_metric(\"SCORE\", float(values[7]), step=step)"
   ],
   "id": "dfb177a600a9b299",
   "outputs": [
    {
     "name": "stdout",
     "output_type": "stream",
     "text": [
      "  0       0          0.00     49.79    0.00    0.00    0.00    0.00\n",
      " 19     200        118.30   1782.31   67.74   70.00   65.62    0.68\n",
      " 43     400         28.18     19.29   51.85   63.64   43.75    0.52\n",
      " 73     600         29.32     13.99   61.02   66.67   56.25    0.61\n",
      "109     800         10.31      2.81   57.63   62.96   53.12    0.58\n",
      "155    1000          0.02      0.01   63.33   67.86   59.38    0.63\n",
      "208    1200        111.20     22.25   63.33   67.86   59.38    0.63\n",
      "274    1400        332.04     85.99   75.00   87.50   65.62    0.75\n",
      "354    1600        101.24      8.71   65.52   73.08   59.38    0.66\n",
      "454    1800          0.00      0.00   70.00   75.00   65.62    0.70\n",
      "554    2000          0.00      0.00   70.00   75.00   65.62    0.70\n",
      "696    2200          8.82      1.98   70.00   75.00   65.62    0.70\n",
      "896    2400         69.07      4.24   60.71   70.83   53.12    0.61\n",
      "1096    2600         93.22      8.87   64.41   70.37   59.38    0.64\n",
      "1296    2800        428.43     68.45   63.33   67.86   59.38    0.63\n",
      "1496    3000         43.61      7.93   68.97   76.92   62.50    0.69\n"
     ]
    }
   ],
   "execution_count": 11
  },
  {
   "metadata": {
    "ExecuteTime": {
     "end_time": "2025-02-15T05:00:58.024416Z",
     "start_time": "2025-02-15T05:00:58.021752Z"
    }
   },
   "cell_type": "code",
   "source": [
    "if enable_mlflow:\n",
    "    # Log the final trained model\n",
    "    mlflow.spacy.log_model(spacy_model=nlp, artifact_path=\"spacy_model\")\n",
    "    mlflow.end_run()"
   ],
   "id": "e0011958a88b4589",
   "outputs": [],
   "execution_count": 12
  },
  {
   "cell_type": "markdown",
   "id": "1a595895-1a58-4850-8dd0-ba714cf10d28",
   "metadata": {},
   "source": [
    "### Test model"
   ]
  },
  {
   "cell_type": "code",
   "id": "79e03a67",
   "metadata": {
    "ExecuteTime": {
     "end_time": "2025-02-15T05:43:18.043766Z",
     "start_time": "2025-02-15T05:43:17.782851Z"
    }
   },
   "source": [
    "nlp_ner = spacy.load(\"model-best\")\n",
    "\n",
    "doc = nlp_ner(\"#BTC still trading at Price down: 37052.1 € this morning. Hyper Corp announced #Bitcoin https://t.co/1XNq01CaMn\")\n",
    "\n",
    "colors = {\"PRICE\": \"#F67DE3\", \"CRYPTO\": \"#7DF6D9\", \"ORG\":\"#7156F6\"}\n",
    "options = {\"colors\": colors} \n",
    "\n",
    "spacy.displacy.render(doc, style=\"ent\", options= options, jupyter=True)"
   ],
   "outputs": [
    {
     "data": {
      "text/plain": [
       "<IPython.core.display.HTML object>"
      ],
      "text/html": [
       "<span class=\"tex2jax_ignore\"><div class=\"entities\" style=\"line-height: 2.5; direction: ltr\">\n",
       "<mark class=\"entity\" style=\"background: #7DF6D9; padding: 0.45em 0.6em; margin: 0 0.25em; line-height: 1; border-radius: 0.35em;\">\n",
       "    #BTC\n",
       "    <span style=\"font-size: 0.8em; font-weight: bold; line-height: 1; border-radius: 0.35em; vertical-align: middle; margin-left: 0.5rem\">CRYPTO</span>\n",
       "</mark>\n",
       " still trading at Price down: \n",
       "<mark class=\"entity\" style=\"background: #F67DE3; padding: 0.45em 0.6em; margin: 0 0.25em; line-height: 1; border-radius: 0.35em;\">\n",
       "    37052.1 €\n",
       "    <span style=\"font-size: 0.8em; font-weight: bold; line-height: 1; border-radius: 0.35em; vertical-align: middle; margin-left: 0.5rem\">PRICE</span>\n",
       "</mark>\n",
       " this morning. \n",
       "<mark class=\"entity\" style=\"background: #7156F6; padding: 0.45em 0.6em; margin: 0 0.25em; line-height: 1; border-radius: 0.35em;\">\n",
       "    Hyper Corp\n",
       "    <span style=\"font-size: 0.8em; font-weight: bold; line-height: 1; border-radius: 0.35em; vertical-align: middle; margin-left: 0.5rem\">ORG</span>\n",
       "</mark>\n",
       " announced \n",
       "<mark class=\"entity\" style=\"background: #7DF6D9; padding: 0.45em 0.6em; margin: 0 0.25em; line-height: 1; border-radius: 0.35em;\">\n",
       "    #Bitcoin\n",
       "    <span style=\"font-size: 0.8em; font-weight: bold; line-height: 1; border-radius: 0.35em; vertical-align: middle; margin-left: 0.5rem\">CRYPTO</span>\n",
       "</mark>\n",
       " https://t.co/1XNq01CaMn</div></span>"
      ]
     },
     "metadata": {},
     "output_type": "display_data"
    }
   ],
   "execution_count": 46
  },
  {
   "metadata": {
    "ExecuteTime": {
     "end_time": "2025-01-25T20:03:07.551077Z",
     "start_time": "2025-01-25T20:03:07.549405Z"
    }
   },
   "cell_type": "code",
   "source": "",
   "id": "974299ce53866815",
   "outputs": [],
   "execution_count": null
  }
 ],
 "metadata": {
  "kernelspec": {
   "display_name": "Python 3 (ipykernel)",
   "language": "python",
   "name": "python3"
  },
  "language_info": {
   "codemirror_mode": {
    "name": "ipython",
    "version": 3
   },
   "file_extension": ".py",
   "mimetype": "text/x-python",
   "name": "python",
   "nbconvert_exporter": "python",
   "pygments_lexer": "ipython3",
   "version": "3.10.16"
  }
 },
 "nbformat": 4,
 "nbformat_minor": 5
}
