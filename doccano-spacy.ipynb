{
 "cells": [
  {
   "cell_type": "markdown",
   "id": "f92c6224b97caf98",
   "metadata": {},
   "source": [
    "## Train Named Entity Recognition model with SpaCy\n",
    "This project shows how to extract information from text documents using transfer learning with pretrained model from SpaCy library.\n"
   ]
  },
  {
   "cell_type": "code",
   "id": "fe7c9527-9444-432d-84bd-0d1baa83ce0e",
   "metadata": {
    "ExecuteTime": {
     "end_time": "2025-01-15T06:42:53.939153Z",
     "start_time": "2025-01-15T06:42:53.177458Z"
    }
   },
   "source": [
    "# import ibraries\n",
    "from spacy.util import filter_spans\n",
    "import json\n",
    "import spacy\n",
    "from spacy.tokens import DocBin\n",
    "from tqdm import tqdm"
   ],
   "outputs": [],
   "execution_count": 2
  },
  {
   "cell_type": "code",
   "id": "fe16b362-f34f-4d63-9111-9dae75c7de4f",
   "metadata": {
    "ExecuteTime": {
     "end_time": "2025-01-15T06:42:53.953685Z",
     "start_time": "2025-01-15T06:42:53.949321Z"
    }
   },
   "source": [
    "with open('data/bitcoin_tweets_annotated.json', 'r') as f:\n",
    "    data = json.load(f)\n",
    "    \n",
    "print(data[0])"
   ],
   "outputs": [
    {
     "name": "stdout",
     "output_type": "stream",
     "text": [
      "{'id': 4304, 'text': 'I just bought 9k/534k Coins in Harmony $ONE and $CELR Network 😊📈 #ToTheMoon #BNB\\xa0 #Doge #Ada #KuCoin #XRP #BTC\\xa0… https://t.co/urfWe62tav', 'Comments': [], 'label': [[84, 89, 'CRYPTO_NAME'], [90, 94, 'CRYPTO_NAME'], [94, 102, 'CRYPTO_NAME'], [103, 107, 'CRYPTO_NAME'], [108, 112, 'CRYPTO_NAME']]}\n"
     ]
    }
   ],
   "execution_count": 3
  },
  {
   "cell_type": "markdown",
   "id": "a3142f6d-a26e-4d6d-8258-8863990672b7",
   "metadata": {},
   "source": [
    "### Prepare training data"
   ]
  },
  {
   "cell_type": "code",
   "id": "0d6c9474-2b90-49ae-8764-c704fc27f0b1",
   "metadata": {
    "ExecuteTime": {
     "end_time": "2025-01-15T06:42:54.011069Z",
     "start_time": "2025-01-15T06:42:54.007310Z"
    }
   },
   "source": [
    "training_data = {\n",
    "    'classes' : ['CRYPTO_NAME', \"CRYPTO_PRICE\", \"ORGANIZATION\"],\n",
    "    'annotations' : []\n",
    "}\n",
    "\n",
    "for example in data:\n",
    "  data_row = {}\n",
    "  data_row['text'] = example['text']\n",
    "  data_row['entities'] = []\n",
    "\n",
    "  for annotation in example['label']:\n",
    "    start = annotation[0]\n",
    "    end = annotation[1]\n",
    "    label = annotation[2]\n",
    "    data_row['entities'].append((start, end, label))\n",
    "  training_data['annotations'].append(data_row)\n",
    "  \n",
    "print(training_data['annotations'][1])"
   ],
   "outputs": [
    {
     "name": "stdout",
     "output_type": "stream",
     "text": [
      "{'text': 'Blue Ridge Bank shares halted by NYSE after #bitcoin ATM announcement https://t.co/xaaZmaJKiV @MyBlueRidgeBank… https://t.co/sgBxMkP1SI', 'entities': [(0, 15, 'ORGANIZATION'), (33, 37, 'ORGANIZATION'), (44, 52, 'CRYPTO_NAME')]}\n"
     ]
    }
   ],
   "execution_count": 4
  },
  {
   "cell_type": "code",
   "id": "b1122921",
   "metadata": {
    "ExecuteTime": {
     "end_time": "2025-01-15T06:42:54.221101Z",
     "start_time": "2025-01-15T06:42:54.083061Z"
    }
   },
   "source": [
    "nlp = spacy.blank(\"en\") \n",
    "\n",
    "doc_bin = DocBin()"
   ],
   "outputs": [],
   "execution_count": 5
  },
  {
   "cell_type": "code",
   "id": "04a9d92f",
   "metadata": {
    "ExecuteTime": {
     "end_time": "2025-01-15T06:42:54.249561Z",
     "start_time": "2025-01-15T06:42:54.230538Z"
    }
   },
   "source": [
    "for training_row  in tqdm(training_data['annotations']): \n",
    "    text = training_row['text']\n",
    "    labels = training_row['entities']\n",
    "    doc = nlp.make_doc(text) \n",
    "    ents = []\n",
    "    for start, end, label in labels:\n",
    "        span = doc.char_span(start, end, label=label, alignment_mode=\"contract\")\n",
    "        if span is not None:\n",
    "            ents.append(span)\n",
    "    filtered_ents = filter_spans(ents)\n",
    "    doc.ents = filtered_ents \n",
    "    doc_bin.add(doc)\n",
    "\n",
    "    \n",
    "doc_bin.to_disk(\"training.spacy\")"
   ],
   "outputs": [
    {
     "name": "stderr",
     "output_type": "stream",
     "text": [
      "100%|██████████| 18/18 [00:00<00:00, 2159.35it/s]\n"
     ]
    }
   ],
   "execution_count": 6
  },
  {
   "cell_type": "markdown",
   "id": "fd0a1434",
   "metadata": {},
   "source": [
    "### Run commands for training model"
   ]
  },
  {
   "cell_type": "code",
   "id": "bc16a921",
   "metadata": {
    "ExecuteTime": {
     "end_time": "2025-01-15T06:49:03.709438Z",
     "start_time": "2025-01-15T06:47:19.462618Z"
    }
   },
   "source": [
    "!python -m spacy init fill-config base_config.cfg config.cfg\n",
    "\n",
    "!python -m spacy train config.cfg --output ./ --paths.train ./training.spacy --paths.dev ./training.spacy"
   ],
   "outputs": [
    {
     "name": "stdout",
     "output_type": "stream",
     "text": [
      "/home/michal/anaconda3/lib/python3.12/site-packages/transformers/utils/generic.py:441: FutureWarning: `torch.utils._pytree._register_pytree_node` is deprecated. Please use `torch.utils._pytree.register_pytree_node` instead.\r\n",
      "  _torch_pytree._register_pytree_node(\r\n",
      "/home/michal/anaconda3/lib/python3.12/site-packages/transformers/utils/generic.py:309: FutureWarning: `torch.utils._pytree._register_pytree_node` is deprecated. Please use `torch.utils._pytree.register_pytree_node` instead.\r\n",
      "  _torch_pytree._register_pytree_node(\r\n",
      "\u001B[38;5;2m✔ Auto-filled config with all values\u001B[0m\r\n",
      "\u001B[38;5;2m✔ Saved config\u001B[0m\r\n",
      "config.cfg\r\n",
      "You can now add your data and train your pipeline:\r\n",
      "python -m spacy train config.cfg --paths.train ./train.spacy --paths.dev ./dev.spacy\r\n",
      "\u001B[38;5;4mℹ Saving to output directory: .\u001B[0m\r\n",
      "\u001B[38;5;4mℹ Using CPU\u001B[0m\r\n",
      "\u001B[1m\r\n",
      "=========================== Initializing pipeline ===========================\u001B[0m\r\n",
      "/home/michal/anaconda3/lib/python3.12/site-packages/transformers/utils/generic.py:441: FutureWarning: `torch.utils._pytree._register_pytree_node` is deprecated. Please use `torch.utils._pytree.register_pytree_node` instead.\r\n",
      "  _torch_pytree._register_pytree_node(\r\n",
      "/home/michal/anaconda3/lib/python3.12/site-packages/transformers/utils/generic.py:309: FutureWarning: `torch.utils._pytree._register_pytree_node` is deprecated. Please use `torch.utils._pytree.register_pytree_node` instead.\r\n",
      "  _torch_pytree._register_pytree_node(\r\n",
      "\u001B[38;5;2m✔ Initialized pipeline\u001B[0m\r\n",
      "\u001B[1m\r\n",
      "============================= Training pipeline =============================\u001B[0m\r\n",
      "\u001B[38;5;4mℹ Pipeline: ['tok2vec', 'ner']\u001B[0m\r\n",
      "\u001B[38;5;4mℹ Initial learn rate: 0.001\u001B[0m\r\n",
      "E    #       LOSS TOK2VEC  LOSS NER  ENTS_F  ENTS_P  ENTS_R  SCORE \r\n",
      "---  ------  ------------  --------  ------  ------  ------  ------\r\n",
      "  0       0          0.00     41.50    0.00    0.00    0.00    0.00\r\n",
      " 41     200         80.97   1656.99   97.35   96.49   98.21    0.97\r\n",
      " 91     400         84.12    182.16   97.35   96.49   98.21    0.97\r\n",
      "154     600         80.21    174.16   98.18  100.00   96.43    0.98\r\n",
      "223     800         32.76    107.53   98.21   98.21   98.21    0.98\r\n",
      "323    1000         33.25    149.38   98.21   98.21   98.21    0.98\r\n",
      "423    1200         31.74    133.80   98.18  100.00   96.43    0.98\r\n",
      "549    1400         46.71    153.75   98.21   98.21   98.21    0.98\r\n",
      "749    1600         58.60    230.83   98.18  100.00   96.43    0.98\r\n",
      "949    1800         43.96    228.19   98.21   98.21   98.21    0.98\r\n",
      "1149    2000         28.15    225.72   98.21   98.21   98.21    0.98\r\n",
      "1349    2200         24.39    218.23   98.18  100.00   96.43    0.98\r\n",
      "1549    2400         16.31    211.77   98.18  100.00   96.43    0.98\r\n",
      "\u001B[38;5;2m✔ Saved pipeline to output directory\u001B[0m\r\n",
      "model-last\r\n"
     ]
    }
   ],
   "execution_count": 15
  },
  {
   "cell_type": "markdown",
   "id": "1a595895-1a58-4850-8dd0-ba714cf10d28",
   "metadata": {},
   "source": [
    "### Test model"
   ]
  },
  {
   "cell_type": "code",
   "id": "79e03a67",
   "metadata": {
    "ExecuteTime": {
     "end_time": "2025-01-15T06:51:30.900255Z",
     "start_time": "2025-01-15T06:51:30.694521Z"
    }
   },
   "source": [
    "nlp_ner = spacy.load(\"model-best\")\n",
    "\n",
    "doc = nlp_ner(\"#BTC still trading at Price: - 37082.1 € this morning. #Bitcoin  https:\\/\\/t.co\\/1XNq01CaMn\")\n",
    "\n",
    "colors = {\"CRYPTO_PRICE\": \"#F67DE3\", \"CRYPTO_NAME\": \"#7DF6D9\", \"ORGANIZATION\":\"#FFFFFF\"}\n",
    "options = {\"colors\": colors} \n",
    "\n",
    "spacy.displacy.render(doc, style=\"ent\", options= options, jupyter=True)"
   ],
   "outputs": [
    {
     "data": {
      "text/plain": [
       "<IPython.core.display.HTML object>"
      ],
      "text/html": [
       "<span class=\"tex2jax_ignore\"><div class=\"entities\" style=\"line-height: 2.5; direction: ltr\">\n",
       "<mark class=\"entity\" style=\"background: #7DF6D9; padding: 0.45em 0.6em; margin: 0 0.25em; line-height: 1; border-radius: 0.35em;\">\n",
       "    #BTC\n",
       "    <span style=\"font-size: 0.8em; font-weight: bold; line-height: 1; border-radius: 0.35em; vertical-align: middle; margin-left: 0.5rem\">CRYPTO_NAME</span>\n",
       "</mark>\n",
       " still trading at Price: - 37082.1 \n",
       "<mark class=\"entity\" style=\"background: #F67DE3; padding: 0.45em 0.6em; margin: 0 0.25em; line-height: 1; border-radius: 0.35em;\">\n",
       "    €\n",
       "    <span style=\"font-size: 0.8em; font-weight: bold; line-height: 1; border-radius: 0.35em; vertical-align: middle; margin-left: 0.5rem\">CRYPTO_PRICE</span>\n",
       "</mark>\n",
       " this morning. #Bitcoin  https:\\/\\/t.co\\/1XNq01CaMn</div></span>"
      ]
     },
     "metadata": {},
     "output_type": "display_data"
    }
   ],
   "execution_count": 24
  }
 ],
 "metadata": {
  "kernelspec": {
   "display_name": "ner_with_spacy",
   "language": "python",
   "name": "ner_with_spacy"
  },
  "language_info": {
   "codemirror_mode": {
    "name": "ipython",
    "version": 3
   },
   "file_extension": ".py",
   "mimetype": "text/x-python",
   "name": "python",
   "nbconvert_exporter": "python",
   "pygments_lexer": "ipython3",
   "version": "3.10.16"
  }
 },
 "nbformat": 4,
 "nbformat_minor": 5
}
