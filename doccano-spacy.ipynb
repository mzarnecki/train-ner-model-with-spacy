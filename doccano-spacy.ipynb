{
 "cells": [
  {
   "cell_type": "markdown",
   "id": "f92c6224b97caf98",
   "metadata": {},
   "source": [
    "## Train Named Entity Recognition model with SpaCy\n",
    "This project shows how to extract information from text documents using transfer learning with pretrained model from SpaCy library.\n"
   ]
  },
  {
   "cell_type": "code",
   "execution_count": 1,
   "id": "227e26701bb2b5a8",
   "metadata": {
    "ExecuteTime": {
     "end_time": "2025-01-22T20:06:13.583688Z",
     "start_time": "2025-01-22T20:06:10.241093Z"
    }
   },
   "outputs": [
    {
     "name": "stdout",
     "output_type": "stream",
     "text": [
      "Requirement already satisfied: spacy in /home/michal/anaconda3/envs/ner_model_training_spacy/lib/python3.10/site-packages (3.8.4)\n",
      "Requirement already satisfied: spacy-legacy<3.1.0,>=3.0.11 in /home/michal/anaconda3/envs/ner_model_training_spacy/lib/python3.10/site-packages (from spacy) (3.0.12)\n",
      "Requirement already satisfied: spacy-loggers<2.0.0,>=1.0.0 in /home/michal/anaconda3/envs/ner_model_training_spacy/lib/python3.10/site-packages (from spacy) (1.0.5)\n",
      "Requirement already satisfied: murmurhash<1.1.0,>=0.28.0 in /home/michal/anaconda3/envs/ner_model_training_spacy/lib/python3.10/site-packages (from spacy) (1.0.12)\n",
      "Requirement already satisfied: cymem<2.1.0,>=2.0.2 in /home/michal/anaconda3/envs/ner_model_training_spacy/lib/python3.10/site-packages (from spacy) (2.0.11)\n",
      "Requirement already satisfied: preshed<3.1.0,>=3.0.2 in /home/michal/anaconda3/envs/ner_model_training_spacy/lib/python3.10/site-packages (from spacy) (3.0.9)\n",
      "Requirement already satisfied: thinc<8.4.0,>=8.3.4 in /home/michal/anaconda3/envs/ner_model_training_spacy/lib/python3.10/site-packages (from spacy) (8.3.4)\n",
      "Requirement already satisfied: wasabi<1.2.0,>=0.9.1 in /home/michal/anaconda3/envs/ner_model_training_spacy/lib/python3.10/site-packages (from spacy) (1.1.3)\n",
      "Requirement already satisfied: srsly<3.0.0,>=2.4.3 in /home/michal/anaconda3/envs/ner_model_training_spacy/lib/python3.10/site-packages (from spacy) (2.5.1)\n",
      "Requirement already satisfied: catalogue<2.1.0,>=2.0.6 in /home/michal/anaconda3/envs/ner_model_training_spacy/lib/python3.10/site-packages (from spacy) (2.0.10)\n",
      "Requirement already satisfied: weasel<0.5.0,>=0.1.0 in /home/michal/anaconda3/envs/ner_model_training_spacy/lib/python3.10/site-packages (from spacy) (0.4.1)\n",
      "Requirement already satisfied: typer<1.0.0,>=0.3.0 in /home/michal/anaconda3/envs/ner_model_training_spacy/lib/python3.10/site-packages (from spacy) (0.15.1)\n",
      "Requirement already satisfied: tqdm<5.0.0,>=4.38.0 in /home/michal/anaconda3/envs/ner_model_training_spacy/lib/python3.10/site-packages (from spacy) (4.67.1)\n",
      "Requirement already satisfied: numpy>=1.19.0 in /home/michal/anaconda3/envs/ner_model_training_spacy/lib/python3.10/site-packages (from spacy) (1.26.3)\n",
      "Requirement already satisfied: requests<3.0.0,>=2.13.0 in /home/michal/anaconda3/envs/ner_model_training_spacy/lib/python3.10/site-packages (from spacy) (2.32.3)\n",
      "Requirement already satisfied: pydantic!=1.8,!=1.8.1,<3.0.0,>=1.7.4 in /home/michal/anaconda3/envs/ner_model_training_spacy/lib/python3.10/site-packages (from spacy) (2.10.5)\n",
      "Requirement already satisfied: jinja2 in /home/michal/anaconda3/envs/ner_model_training_spacy/lib/python3.10/site-packages (from spacy) (3.1.5)\n",
      "Requirement already satisfied: setuptools in /home/michal/anaconda3/envs/ner_model_training_spacy/lib/python3.10/site-packages (from spacy) (75.1.0)\n",
      "Requirement already satisfied: packaging>=20.0 in /home/michal/anaconda3/envs/ner_model_training_spacy/lib/python3.10/site-packages (from spacy) (24.2)\n",
      "Requirement already satisfied: langcodes<4.0.0,>=3.2.0 in /home/michal/anaconda3/envs/ner_model_training_spacy/lib/python3.10/site-packages (from spacy) (3.5.0)\n",
      "Requirement already satisfied: language-data>=1.2 in /home/michal/anaconda3/envs/ner_model_training_spacy/lib/python3.10/site-packages (from langcodes<4.0.0,>=3.2.0->spacy) (1.3.0)\n",
      "Requirement already satisfied: annotated-types>=0.6.0 in /home/michal/anaconda3/envs/ner_model_training_spacy/lib/python3.10/site-packages (from pydantic!=1.8,!=1.8.1,<3.0.0,>=1.7.4->spacy) (0.7.0)\n",
      "Requirement already satisfied: pydantic-core==2.27.2 in /home/michal/anaconda3/envs/ner_model_training_spacy/lib/python3.10/site-packages (from pydantic!=1.8,!=1.8.1,<3.0.0,>=1.7.4->spacy) (2.27.2)\n",
      "Requirement already satisfied: typing-extensions>=4.12.2 in /home/michal/anaconda3/envs/ner_model_training_spacy/lib/python3.10/site-packages (from pydantic!=1.8,!=1.8.1,<3.0.0,>=1.7.4->spacy) (4.12.2)\n",
      "Requirement already satisfied: charset-normalizer<4,>=2 in /home/michal/anaconda3/envs/ner_model_training_spacy/lib/python3.10/site-packages (from requests<3.0.0,>=2.13.0->spacy) (3.4.1)\n",
      "Requirement already satisfied: idna<4,>=2.5 in /home/michal/anaconda3/envs/ner_model_training_spacy/lib/python3.10/site-packages (from requests<3.0.0,>=2.13.0->spacy) (3.10)\n",
      "Requirement already satisfied: urllib3<3,>=1.21.1 in /home/michal/anaconda3/envs/ner_model_training_spacy/lib/python3.10/site-packages (from requests<3.0.0,>=2.13.0->spacy) (2.3.0)\n",
      "Requirement already satisfied: certifi>=2017.4.17 in /home/michal/anaconda3/envs/ner_model_training_spacy/lib/python3.10/site-packages (from requests<3.0.0,>=2.13.0->spacy) (2024.12.14)\n",
      "Requirement already satisfied: blis<1.3.0,>=1.2.0 in /home/michal/anaconda3/envs/ner_model_training_spacy/lib/python3.10/site-packages (from thinc<8.4.0,>=8.3.4->spacy) (1.2.0)\n",
      "Requirement already satisfied: confection<1.0.0,>=0.0.1 in /home/michal/anaconda3/envs/ner_model_training_spacy/lib/python3.10/site-packages (from thinc<8.4.0,>=8.3.4->spacy) (0.1.5)\n",
      "Requirement already satisfied: click>=8.0.0 in /home/michal/anaconda3/envs/ner_model_training_spacy/lib/python3.10/site-packages (from typer<1.0.0,>=0.3.0->spacy) (8.1.8)\n",
      "Requirement already satisfied: shellingham>=1.3.0 in /home/michal/anaconda3/envs/ner_model_training_spacy/lib/python3.10/site-packages (from typer<1.0.0,>=0.3.0->spacy) (1.5.4)\n",
      "Requirement already satisfied: rich>=10.11.0 in /home/michal/anaconda3/envs/ner_model_training_spacy/lib/python3.10/site-packages (from typer<1.0.0,>=0.3.0->spacy) (13.9.4)\n",
      "Requirement already satisfied: cloudpathlib<1.0.0,>=0.7.0 in /home/michal/anaconda3/envs/ner_model_training_spacy/lib/python3.10/site-packages (from weasel<0.5.0,>=0.1.0->spacy) (0.20.0)\n",
      "Requirement already satisfied: smart-open<8.0.0,>=5.2.1 in /home/michal/anaconda3/envs/ner_model_training_spacy/lib/python3.10/site-packages (from weasel<0.5.0,>=0.1.0->spacy) (7.1.0)\n",
      "Requirement already satisfied: MarkupSafe>=2.0 in /home/michal/anaconda3/envs/ner_model_training_spacy/lib/python3.10/site-packages (from jinja2->spacy) (3.0.2)\n",
      "Requirement already satisfied: marisa-trie>=1.1.0 in /home/michal/anaconda3/envs/ner_model_training_spacy/lib/python3.10/site-packages (from language-data>=1.2->langcodes<4.0.0,>=3.2.0->spacy) (1.2.1)\n",
      "Requirement already satisfied: markdown-it-py>=2.2.0 in /home/michal/anaconda3/envs/ner_model_training_spacy/lib/python3.10/site-packages (from rich>=10.11.0->typer<1.0.0,>=0.3.0->spacy) (3.0.0)\n",
      "Requirement already satisfied: pygments<3.0.0,>=2.13.0 in /home/michal/anaconda3/envs/ner_model_training_spacy/lib/python3.10/site-packages (from rich>=10.11.0->typer<1.0.0,>=0.3.0->spacy) (2.19.1)\n",
      "Requirement already satisfied: wrapt in /home/michal/anaconda3/envs/ner_model_training_spacy/lib/python3.10/site-packages (from smart-open<8.0.0,>=5.2.1->weasel<0.5.0,>=0.1.0->spacy) (1.17.2)\n",
      "Requirement already satisfied: mdurl~=0.1 in /home/michal/anaconda3/envs/ner_model_training_spacy/lib/python3.10/site-packages (from markdown-it-py>=2.2.0->rich>=10.11.0->typer<1.0.0,>=0.3.0->spacy) (0.1.2)\n",
      "Requirement already satisfied: mlflow in /home/michal/anaconda3/envs/ner_model_training_spacy/lib/python3.10/site-packages (2.19.0)\n",
      "Requirement already satisfied: mlflow-skinny==2.19.0 in /home/michal/anaconda3/envs/ner_model_training_spacy/lib/python3.10/site-packages (from mlflow) (2.19.0)\n",
      "Requirement already satisfied: Flask<4 in /home/michal/anaconda3/envs/ner_model_training_spacy/lib/python3.10/site-packages (from mlflow) (3.1.0)\n",
      "Requirement already satisfied: Jinja2<4,>=2.11 in /home/michal/anaconda3/envs/ner_model_training_spacy/lib/python3.10/site-packages (from mlflow) (3.1.5)\n",
      "Requirement already satisfied: alembic!=1.10.0,<2 in /home/michal/anaconda3/envs/ner_model_training_spacy/lib/python3.10/site-packages (from mlflow) (1.14.1)\n",
      "Requirement already satisfied: docker<8,>=4.0.0 in /home/michal/anaconda3/envs/ner_model_training_spacy/lib/python3.10/site-packages (from mlflow) (7.1.0)\n",
      "Requirement already satisfied: graphene<4 in /home/michal/anaconda3/envs/ner_model_training_spacy/lib/python3.10/site-packages (from mlflow) (3.4.3)\n",
      "Requirement already satisfied: gunicorn<24 in /home/michal/anaconda3/envs/ner_model_training_spacy/lib/python3.10/site-packages (from mlflow) (23.0.0)\n",
      "Requirement already satisfied: markdown<4,>=3.3 in /home/michal/anaconda3/envs/ner_model_training_spacy/lib/python3.10/site-packages (from mlflow) (3.7)\n",
      "Requirement already satisfied: matplotlib<4 in /home/michal/anaconda3/envs/ner_model_training_spacy/lib/python3.10/site-packages (from mlflow) (3.10.0)\n",
      "Requirement already satisfied: numpy<3 in /home/michal/anaconda3/envs/ner_model_training_spacy/lib/python3.10/site-packages (from mlflow) (1.26.3)\n",
      "Requirement already satisfied: pandas<3 in /home/michal/anaconda3/envs/ner_model_training_spacy/lib/python3.10/site-packages (from mlflow) (2.2.3)\n",
      "Requirement already satisfied: pyarrow<19,>=4.0.0 in /home/michal/anaconda3/envs/ner_model_training_spacy/lib/python3.10/site-packages (from mlflow) (18.1.0)\n",
      "Requirement already satisfied: scikit-learn<2 in /home/michal/anaconda3/envs/ner_model_training_spacy/lib/python3.10/site-packages (from mlflow) (1.6.1)\n",
      "Requirement already satisfied: scipy<2 in /home/michal/anaconda3/envs/ner_model_training_spacy/lib/python3.10/site-packages (from mlflow) (1.15.1)\n",
      "Requirement already satisfied: sqlalchemy<3,>=1.4.0 in /home/michal/anaconda3/envs/ner_model_training_spacy/lib/python3.10/site-packages (from mlflow) (2.0.37)\n",
      "Requirement already satisfied: cachetools<6,>=5.0.0 in /home/michal/anaconda3/envs/ner_model_training_spacy/lib/python3.10/site-packages (from mlflow-skinny==2.19.0->mlflow) (5.5.1)\n",
      "Requirement already satisfied: click<9,>=7.0 in /home/michal/anaconda3/envs/ner_model_training_spacy/lib/python3.10/site-packages (from mlflow-skinny==2.19.0->mlflow) (8.1.8)\n",
      "Requirement already satisfied: cloudpickle<4 in /home/michal/anaconda3/envs/ner_model_training_spacy/lib/python3.10/site-packages (from mlflow-skinny==2.19.0->mlflow) (3.1.1)\n",
      "Requirement already satisfied: databricks-sdk<1,>=0.20.0 in /home/michal/anaconda3/envs/ner_model_training_spacy/lib/python3.10/site-packages (from mlflow-skinny==2.19.0->mlflow) (0.41.0)\n",
      "Requirement already satisfied: gitpython<4,>=3.1.9 in /home/michal/anaconda3/envs/ner_model_training_spacy/lib/python3.10/site-packages (from mlflow-skinny==2.19.0->mlflow) (3.1.44)\n",
      "Requirement already satisfied: importlib_metadata!=4.7.0,<9,>=3.7.0 in /home/michal/anaconda3/envs/ner_model_training_spacy/lib/python3.10/site-packages (from mlflow-skinny==2.19.0->mlflow) (8.5.0)\n",
      "Requirement already satisfied: opentelemetry-api<3,>=1.9.0 in /home/michal/anaconda3/envs/ner_model_training_spacy/lib/python3.10/site-packages (from mlflow-skinny==2.19.0->mlflow) (1.29.0)\n",
      "Requirement already satisfied: opentelemetry-sdk<3,>=1.9.0 in /home/michal/anaconda3/envs/ner_model_training_spacy/lib/python3.10/site-packages (from mlflow-skinny==2.19.0->mlflow) (1.29.0)\n",
      "Requirement already satisfied: packaging<25 in /home/michal/anaconda3/envs/ner_model_training_spacy/lib/python3.10/site-packages (from mlflow-skinny==2.19.0->mlflow) (24.2)\n",
      "Requirement already satisfied: protobuf<6,>=3.12.0 in /home/michal/anaconda3/envs/ner_model_training_spacy/lib/python3.10/site-packages (from mlflow-skinny==2.19.0->mlflow) (5.29.3)\n",
      "Requirement already satisfied: pyyaml<7,>=5.1 in /home/michal/anaconda3/envs/ner_model_training_spacy/lib/python3.10/site-packages (from mlflow-skinny==2.19.0->mlflow) (6.0.2)\n",
      "Requirement already satisfied: requests<3,>=2.17.3 in /home/michal/anaconda3/envs/ner_model_training_spacy/lib/python3.10/site-packages (from mlflow-skinny==2.19.0->mlflow) (2.32.3)\n",
      "Requirement already satisfied: sqlparse<1,>=0.4.0 in /home/michal/anaconda3/envs/ner_model_training_spacy/lib/python3.10/site-packages (from mlflow-skinny==2.19.0->mlflow) (0.5.3)\n",
      "Requirement already satisfied: Mako in /home/michal/anaconda3/envs/ner_model_training_spacy/lib/python3.10/site-packages (from alembic!=1.10.0,<2->mlflow) (1.3.8)\n",
      "Requirement already satisfied: typing-extensions>=4 in /home/michal/anaconda3/envs/ner_model_training_spacy/lib/python3.10/site-packages (from alembic!=1.10.0,<2->mlflow) (4.12.2)\n",
      "Requirement already satisfied: urllib3>=1.26.0 in /home/michal/anaconda3/envs/ner_model_training_spacy/lib/python3.10/site-packages (from docker<8,>=4.0.0->mlflow) (2.3.0)\n",
      "Requirement already satisfied: Werkzeug>=3.1 in /home/michal/anaconda3/envs/ner_model_training_spacy/lib/python3.10/site-packages (from Flask<4->mlflow) (3.1.3)\n",
      "Requirement already satisfied: itsdangerous>=2.2 in /home/michal/anaconda3/envs/ner_model_training_spacy/lib/python3.10/site-packages (from Flask<4->mlflow) (2.2.0)\n",
      "Requirement already satisfied: blinker>=1.9 in /home/michal/anaconda3/envs/ner_model_training_spacy/lib/python3.10/site-packages (from Flask<4->mlflow) (1.9.0)\n",
      "Requirement already satisfied: graphql-core<3.3,>=3.1 in /home/michal/anaconda3/envs/ner_model_training_spacy/lib/python3.10/site-packages (from graphene<4->mlflow) (3.2.5)\n",
      "Requirement already satisfied: graphql-relay<3.3,>=3.1 in /home/michal/anaconda3/envs/ner_model_training_spacy/lib/python3.10/site-packages (from graphene<4->mlflow) (3.2.0)\n",
      "Requirement already satisfied: python-dateutil<3,>=2.7.0 in /home/michal/anaconda3/envs/ner_model_training_spacy/lib/python3.10/site-packages (from graphene<4->mlflow) (2.9.0.post0)\n",
      "Requirement already satisfied: MarkupSafe>=2.0 in /home/michal/anaconda3/envs/ner_model_training_spacy/lib/python3.10/site-packages (from Jinja2<4,>=2.11->mlflow) (3.0.2)\n",
      "Requirement already satisfied: contourpy>=1.0.1 in /home/michal/anaconda3/envs/ner_model_training_spacy/lib/python3.10/site-packages (from matplotlib<4->mlflow) (1.3.1)\n",
      "Requirement already satisfied: cycler>=0.10 in /home/michal/anaconda3/envs/ner_model_training_spacy/lib/python3.10/site-packages (from matplotlib<4->mlflow) (0.12.1)\n",
      "Requirement already satisfied: fonttools>=4.22.0 in /home/michal/anaconda3/envs/ner_model_training_spacy/lib/python3.10/site-packages (from matplotlib<4->mlflow) (4.55.4)\n",
      "Requirement already satisfied: kiwisolver>=1.3.1 in /home/michal/anaconda3/envs/ner_model_training_spacy/lib/python3.10/site-packages (from matplotlib<4->mlflow) (1.4.8)\n",
      "Requirement already satisfied: pillow>=8 in /home/michal/anaconda3/envs/ner_model_training_spacy/lib/python3.10/site-packages (from matplotlib<4->mlflow) (11.1.0)\n",
      "Requirement already satisfied: pyparsing>=2.3.1 in /home/michal/anaconda3/envs/ner_model_training_spacy/lib/python3.10/site-packages (from matplotlib<4->mlflow) (3.2.1)\n",
      "Requirement already satisfied: pytz>=2020.1 in /home/michal/anaconda3/envs/ner_model_training_spacy/lib/python3.10/site-packages (from pandas<3->mlflow) (2024.2)\n",
      "Requirement already satisfied: tzdata>=2022.7 in /home/michal/anaconda3/envs/ner_model_training_spacy/lib/python3.10/site-packages (from pandas<3->mlflow) (2025.1)\n",
      "Requirement already satisfied: joblib>=1.2.0 in /home/michal/anaconda3/envs/ner_model_training_spacy/lib/python3.10/site-packages (from scikit-learn<2->mlflow) (1.4.2)\n",
      "Requirement already satisfied: threadpoolctl>=3.1.0 in /home/michal/anaconda3/envs/ner_model_training_spacy/lib/python3.10/site-packages (from scikit-learn<2->mlflow) (3.5.0)\n",
      "Requirement already satisfied: greenlet!=0.4.17 in /home/michal/anaconda3/envs/ner_model_training_spacy/lib/python3.10/site-packages (from sqlalchemy<3,>=1.4.0->mlflow) (3.1.1)\n",
      "Requirement already satisfied: google-auth~=2.0 in /home/michal/anaconda3/envs/ner_model_training_spacy/lib/python3.10/site-packages (from databricks-sdk<1,>=0.20.0->mlflow-skinny==2.19.0->mlflow) (2.37.0)\n",
      "Requirement already satisfied: gitdb<5,>=4.0.1 in /home/michal/anaconda3/envs/ner_model_training_spacy/lib/python3.10/site-packages (from gitpython<4,>=3.1.9->mlflow-skinny==2.19.0->mlflow) (4.0.12)\n",
      "Requirement already satisfied: zipp>=3.20 in /home/michal/anaconda3/envs/ner_model_training_spacy/lib/python3.10/site-packages (from importlib_metadata!=4.7.0,<9,>=3.7.0->mlflow-skinny==2.19.0->mlflow) (3.21.0)\n",
      "Requirement already satisfied: deprecated>=1.2.6 in /home/michal/anaconda3/envs/ner_model_training_spacy/lib/python3.10/site-packages (from opentelemetry-api<3,>=1.9.0->mlflow-skinny==2.19.0->mlflow) (1.2.15)\n",
      "Requirement already satisfied: opentelemetry-semantic-conventions==0.50b0 in /home/michal/anaconda3/envs/ner_model_training_spacy/lib/python3.10/site-packages (from opentelemetry-sdk<3,>=1.9.0->mlflow-skinny==2.19.0->mlflow) (0.50b0)\n",
      "Requirement already satisfied: six>=1.5 in /home/michal/anaconda3/envs/ner_model_training_spacy/lib/python3.10/site-packages (from python-dateutil<3,>=2.7.0->graphene<4->mlflow) (1.17.0)\n",
      "Requirement already satisfied: charset-normalizer<4,>=2 in /home/michal/anaconda3/envs/ner_model_training_spacy/lib/python3.10/site-packages (from requests<3,>=2.17.3->mlflow-skinny==2.19.0->mlflow) (3.4.1)\n",
      "Requirement already satisfied: idna<4,>=2.5 in /home/michal/anaconda3/envs/ner_model_training_spacy/lib/python3.10/site-packages (from requests<3,>=2.17.3->mlflow-skinny==2.19.0->mlflow) (3.10)\n",
      "Requirement already satisfied: certifi>=2017.4.17 in /home/michal/anaconda3/envs/ner_model_training_spacy/lib/python3.10/site-packages (from requests<3,>=2.17.3->mlflow-skinny==2.19.0->mlflow) (2024.12.14)\n",
      "Requirement already satisfied: wrapt<2,>=1.10 in /home/michal/anaconda3/envs/ner_model_training_spacy/lib/python3.10/site-packages (from deprecated>=1.2.6->opentelemetry-api<3,>=1.9.0->mlflow-skinny==2.19.0->mlflow) (1.17.2)\n",
      "Requirement already satisfied: smmap<6,>=3.0.1 in /home/michal/anaconda3/envs/ner_model_training_spacy/lib/python3.10/site-packages (from gitdb<5,>=4.0.1->gitpython<4,>=3.1.9->mlflow-skinny==2.19.0->mlflow) (5.0.2)\n",
      "Requirement already satisfied: pyasn1-modules>=0.2.1 in /home/michal/anaconda3/envs/ner_model_training_spacy/lib/python3.10/site-packages (from google-auth~=2.0->databricks-sdk<1,>=0.20.0->mlflow-skinny==2.19.0->mlflow) (0.4.1)\n",
      "Requirement already satisfied: rsa<5,>=3.1.4 in /home/michal/anaconda3/envs/ner_model_training_spacy/lib/python3.10/site-packages (from google-auth~=2.0->databricks-sdk<1,>=0.20.0->mlflow-skinny==2.19.0->mlflow) (4.9)\n",
      "Requirement already satisfied: pyasn1<0.7.0,>=0.4.6 in /home/michal/anaconda3/envs/ner_model_training_spacy/lib/python3.10/site-packages (from pyasn1-modules>=0.2.1->google-auth~=2.0->databricks-sdk<1,>=0.20.0->mlflow-skinny==2.19.0->mlflow) (0.6.1)\n"
     ]
    }
   ],
   "source": [
    "! pip install spacy"
   ]
  },
  {
   "cell_type": "code",
   "execution_count": 2,
   "id": "fe7c9527-9444-432d-84bd-0d1baa83ce0e",
   "metadata": {
    "ExecuteTime": {
     "end_time": "2025-01-22T20:09:26.417694Z",
     "start_time": "2025-01-22T20:09:25.277612Z"
    }
   },
   "outputs": [],
   "source": [
    "# import libraries\n",
    "from spacy.util import filter_spans\n",
    "import json\n",
    "import spacy\n",
    "from spacy.tokens import DocBin\n",
    "from tqdm import tqdm"
   ]
  },
  {
   "cell_type": "code",
   "execution_count": 3,
   "id": "fe16b362-f34f-4d63-9111-9dae75c7de4f",
   "metadata": {
    "ExecuteTime": {
     "end_time": "2025-01-22T20:06:14.909868484Z",
     "start_time": "2025-01-18T11:29:42.131178Z"
    }
   },
   "outputs": [
    {
     "name": "stdout",
     "output_type": "stream",
     "text": [
      "{'id': 12887, 'text': 'Blue Ridge Bank shares halted by NYSE after #bitcoin ATM announcement https://t.co/xaaZmaJKiV @MyBlueRidgeBank… https://t.co/sgBxMkP1SI', 'label': [[0, 15, 'ORG'], [44, 52, 'CRYPTO']], 'Comments': []}\n"
     ]
    }
   ],
   "source": [
    "with open('data/bitcoin_tweets_annotated.json', 'r') as f:\n",
    "    data = json.load(f)\n",
    "    \n",
    "print(data[0])"
   ]
  },
  {
   "cell_type": "markdown",
   "id": "a3142f6d-a26e-4d6d-8258-8863990672b7",
   "metadata": {},
   "source": [
    "### Prepare training data"
   ]
  },
  {
   "cell_type": "code",
   "execution_count": 4,
   "id": "0d6c9474-2b90-49ae-8764-c704fc27f0b1",
   "metadata": {
    "ExecuteTime": {
     "end_time": "2025-01-22T20:06:14.911072430Z",
     "start_time": "2025-01-18T11:29:45.471169Z"
    }
   },
   "outputs": [
    {
     "name": "stdout",
     "output_type": "stream",
     "text": [
      "{'text': '😎 Today, that\\'s this #Thursday, we will do a \"🎬 Take 2\" with our friend @LeoWandersleb, #Btc #wallet #security expe… https://t.co/go6aDgRml5', 'entities': [(90, 94, 'CRYPTO')]}\n"
     ]
    }
   ],
   "source": [
    "training_data = {\n",
    "    'classes' : ['CRYPTO_NAME', \"CRYPTO_PRICE\", \"URL\"],\n",
    "    'annotations' : []\n",
    "}\n",
    "\n",
    "for example in data:\n",
    "  data_row = {}\n",
    "  data_row['text'] = example['text']\n",
    "  data_row['entities'] = []\n",
    "\n",
    "  for annotation in example['label']:\n",
    "    start = annotation[0]\n",
    "    end = annotation[1]\n",
    "    label = annotation[2]\n",
    "    data_row['entities'].append((start, end, label))\n",
    "  training_data['annotations'].append(data_row)\n",
    "  \n",
    "print(training_data['annotations'][1])"
   ]
  },
  {
   "cell_type": "code",
   "execution_count": 5,
   "id": "04a9d92f",
   "metadata": {
    "ExecuteTime": {
     "end_time": "2025-01-22T20:06:14.966208729Z",
     "start_time": "2025-01-18T11:29:47.719182Z"
    }
   },
   "outputs": [
    {
     "name": "stderr",
     "output_type": "stream",
     "text": [
      "100%|██████████████████████████████████████████████████████████████████████████████████████████████████████████████████████| 50/50 [00:00<00:00, 2311.17it/s]\n"
     ]
    }
   ],
   "source": [
    "nlp = spacy.blank(\"en\")\n",
    "\n",
    "doc_bin = DocBin()\n",
    "\n",
    "for training_row  in tqdm(training_data['annotations']):\n",
    "    text = training_row['text']\n",
    "    labels = training_row['entities']\n",
    "    doc = nlp.make_doc(text) \n",
    "    ents = []\n",
    "    for start, end, label in labels:\n",
    "        span = doc.char_span(start, end, label=label, alignment_mode=\"contract\")\n",
    "        if span is not None:\n",
    "            ents.append(span)\n",
    "    filtered_ents = filter_spans(ents)\n",
    "    doc.ents = filtered_ents \n",
    "    doc_bin.add(doc)\n",
    "\n",
    "    \n",
    "doc_bin.to_disk(\"training.spacy\")"
   ]
  },
  {
   "cell_type": "markdown",
   "id": "fd0a1434",
   "metadata": {},
   "source": [
    "### Run commands for training model"
   ]
  },
  {
   "cell_type": "code",
   "execution_count": 6,
   "id": "bc16a921",
   "metadata": {
    "ExecuteTime": {
     "end_time": "2025-01-22T20:06:14.990368752Z",
     "start_time": "2025-01-18T11:29:51.809495Z"
    }
   },
   "outputs": [
    {
     "name": "stdout",
     "output_type": "stream",
     "text": [
      "/home/michal/anaconda3/envs/ner_model_training_spacy/lib/python3.10/site-packages/transformers/utils/generic.py:441: FutureWarning: `torch.utils._pytree._register_pytree_node` is deprecated. Please use `torch.utils._pytree.register_pytree_node` instead.\n",
      "  _torch_pytree._register_pytree_node(\n",
      "/home/michal/anaconda3/envs/ner_model_training_spacy/lib/python3.10/site-packages/transformers/utils/generic.py:309: FutureWarning: `torch.utils._pytree._register_pytree_node` is deprecated. Please use `torch.utils._pytree.register_pytree_node` instead.\n",
      "  _torch_pytree._register_pytree_node(\n",
      "\u001b[38;5;2m✔ Auto-filled config with all values\u001b[0m\n",
      "\u001b[38;5;2m✔ Saved config\u001b[0m\n",
      "config.cfg\n",
      "You can now add your data and train your pipeline:\n",
      "python -m spacy train config.cfg --paths.train ./train.spacy --paths.dev ./dev.spacy\n",
      "\u001b[38;5;4mℹ Saving to output directory: .\u001b[0m\n",
      "\u001b[38;5;4mℹ Using CPU\u001b[0m\n",
      "\u001b[1m\n",
      "=========================== Initializing pipeline ===========================\u001b[0m\n",
      "/home/michal/anaconda3/envs/ner_model_training_spacy/lib/python3.10/site-packages/transformers/utils/generic.py:441: FutureWarning: `torch.utils._pytree._register_pytree_node` is deprecated. Please use `torch.utils._pytree.register_pytree_node` instead.\n",
      "  _torch_pytree._register_pytree_node(\n",
      "/home/michal/anaconda3/envs/ner_model_training_spacy/lib/python3.10/site-packages/transformers/utils/generic.py:309: FutureWarning: `torch.utils._pytree._register_pytree_node` is deprecated. Please use `torch.utils._pytree.register_pytree_node` instead.\n",
      "  _torch_pytree._register_pytree_node(\n",
      "\u001b[38;5;2m✔ Initialized pipeline\u001b[0m\n",
      "\u001b[1m\n",
      "============================= Training pipeline =============================\u001b[0m\n",
      "\u001b[38;5;4mℹ Pipeline: ['tok2vec', 'ner']\u001b[0m\n",
      "\u001b[38;5;4mℹ Initial learn rate: 0.001\u001b[0m\n",
      "E    #       LOSS TOK2VEC  LOSS NER  ENTS_F  ENTS_P  ENTS_R  SCORE \n",
      "---  ------  ------------  --------  ------  ------  ------  ------\n",
      "  0       0          0.00     40.07    0.00    0.00    0.00    0.00\n",
      " 15     200        149.02   1913.86   97.56   98.77   96.39    0.98\n",
      " 35     400        138.19     72.22   98.80   98.80   98.80    0.99\n",
      " 59     600         29.87     12.91  100.00  100.00  100.00    1.00\n",
      " 89     800         82.99     27.57  100.00  100.00  100.00    1.00\n",
      "126    1000         55.12     16.58  100.00  100.00  100.00    1.00\n",
      "170    1200         17.53      6.29  100.00  100.00  100.00    1.00\n",
      "223    1400         37.70     14.45  100.00  100.00  100.00    1.00\n",
      "289    1600         30.58      5.99  100.00  100.00  100.00    1.00\n",
      "367    1800         76.72     18.56  100.00  100.00  100.00    1.00\n",
      "467    2000        189.27     22.87  100.00  100.00  100.00    1.00\n",
      "567    2200          6.94      1.04  100.00  100.00  100.00    1.00\n",
      "\u001b[38;5;2m✔ Saved pipeline to output directory\u001b[0m\n",
      "model-last\n"
     ]
    }
   ],
   "source": [
    "!python -m spacy init fill-config base_config.cfg config.cfg\n",
    "\n",
    "!python -m spacy train config.cfg --output ./ --paths.train ./training.spacy --paths.dev ./training.spacy"
   ]
  },
  {
   "cell_type": "markdown",
   "id": "1a595895-1a58-4850-8dd0-ba714cf10d28",
   "metadata": {},
   "source": [
    "### Test model"
   ]
  },
  {
   "cell_type": "code",
   "execution_count": 15,
   "id": "79e03a67",
   "metadata": {
    "ExecuteTime": {
     "end_time": "2025-01-22T20:06:14.992843729Z",
     "start_time": "2025-01-18T11:31:56.374420Z"
    }
   },
   "outputs": [
    {
     "data": {
      "text/html": [
       "<span class=\"tex2jax_ignore\"><div class=\"entities\" style=\"line-height: 2.5; direction: ltr\">\n",
       "<mark class=\"entity\" style=\"background: #ddd; padding: 0.45em 0.6em; margin: 0 0.25em; line-height: 1; border-radius: 0.35em;\">\n",
       "    #BTC\n",
       "    <span style=\"font-size: 0.8em; font-weight: bold; line-height: 1; border-radius: 0.35em; vertical-align: middle; margin-left: 0.5rem\">CRYPTO</span>\n",
       "</mark>\n",
       " still trading at Price down: \n",
       "<mark class=\"entity\" style=\"background: #ddd; padding: 0.45em 0.6em; margin: 0 0.25em; line-height: 1; border-radius: 0.35em;\">\n",
       "    37082.1 €\n",
       "    <span style=\"font-size: 0.8em; font-weight: bold; line-height: 1; border-radius: 0.35em; vertical-align: middle; margin-left: 0.5rem\">PRICE</span>\n",
       "</mark>\n",
       " this morning. \n",
       "<mark class=\"entity\" style=\"background: #7aecec; padding: 0.45em 0.6em; margin: 0 0.25em; line-height: 1; border-radius: 0.35em;\">\n",
       "    @Tesla\n",
       "    <span style=\"font-size: 0.8em; font-weight: bold; line-height: 1; border-radius: 0.35em; vertical-align: middle; margin-left: 0.5rem\">ORG</span>\n",
       "</mark>\n",
       " no longer invest in \n",
       "<mark class=\"entity\" style=\"background: #ddd; padding: 0.45em 0.6em; margin: 0 0.25em; line-height: 1; border-radius: 0.35em;\">\n",
       "    #Bitcoin\n",
       "    <span style=\"font-size: 0.8em; font-weight: bold; line-height: 1; border-radius: 0.35em; vertical-align: middle; margin-left: 0.5rem\">CRYPTO</span>\n",
       "</mark>\n",
       "  https:\\/\\/t.co\\/1XNq01CaMn</div></span>"
      ],
      "text/plain": [
       "<IPython.core.display.HTML object>"
      ]
     },
     "metadata": {},
     "output_type": "display_data"
    }
   ],
   "source": [
    "nlp_ner = spacy.load(\"model-best\")\n",
    "\n",
    "doc = nlp_ner(\"#BTC still trading at Price down: 37082.1 € this morning. @Tesla no longer invest in #Bitcoin  https:\\/\\/t.co\\/1XNq01CaMn\")\n",
    "\n",
    "colors = {\"CRYPTO_PRICE\": \"#F67DE3\", \"CRYPTO_NAME\": \"#7DF6D9\", \"ORGANIZATION\":\"#FFFFFF\"}\n",
    "options = {\"colors\": colors} \n",
    "\n",
    "spacy.displacy.render(doc, style=\"ent\", options= options, jupyter=True)"
   ]
  },
  {
   "cell_type": "code",
   "execution_count": null,
   "id": "a3377377-a6b7-4ca6-8cac-a4b23070766f",
   "metadata": {},
   "outputs": [],
   "source": []
  }
 ],
 "metadata": {
  "kernelspec": {
   "display_name": "ner_with_spacy",
   "language": "python",
   "name": "ner_with_spacy"
  },
  "language_info": {
   "codemirror_mode": {
    "name": "ipython",
    "version": 3
   },
   "file_extension": ".py",
   "mimetype": "text/x-python",
   "name": "python",
   "nbconvert_exporter": "python",
   "pygments_lexer": "ipython3",
   "version": "3.10.16"
  }
 },
 "nbformat": 4,
 "nbformat_minor": 5
}
