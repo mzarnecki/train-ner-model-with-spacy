{
 "cells": [
  {
   "cell_type": "markdown",
   "id": "01edd851",
   "metadata": {},
   "source": [
    "### install spacy transformers"
   ]
  },
  {
   "cell_type": "code",
   "execution_count": 32,
   "id": "2b9091bc",
   "metadata": {},
   "outputs": [
    {
     "name": "stdout",
     "output_type": "stream",
     "text": [
      "Requirement already satisfied: spacy[transformers] in /home/michal/anaconda3/lib/python3.9/site-packages (3.5.3)\n",
      "Requirement already satisfied: setuptools in /home/michal/anaconda3/lib/python3.9/site-packages (from spacy[transformers]) (61.2.0)\n",
      "Requirement already satisfied: preshed<3.1.0,>=3.0.2 in /home/michal/anaconda3/lib/python3.9/site-packages (from spacy[transformers]) (3.0.8)\n",
      "Requirement already satisfied: spacy-legacy<3.1.0,>=3.0.11 in /home/michal/anaconda3/lib/python3.9/site-packages (from spacy[transformers]) (3.0.12)\n",
      "Requirement already satisfied: thinc<8.2.0,>=8.1.8 in /home/michal/anaconda3/lib/python3.9/site-packages (from spacy[transformers]) (8.1.10)\n",
      "Requirement already satisfied: murmurhash<1.1.0,>=0.28.0 in /home/michal/anaconda3/lib/python3.9/site-packages (from spacy[transformers]) (1.0.9)\n",
      "Requirement already satisfied: cymem<2.1.0,>=2.0.2 in /home/michal/anaconda3/lib/python3.9/site-packages (from spacy[transformers]) (2.0.7)\n",
      "Requirement already satisfied: pydantic!=1.8,!=1.8.1,<1.11.0,>=1.7.4 in /home/michal/anaconda3/lib/python3.9/site-packages (from spacy[transformers]) (1.10.4)\n",
      "Requirement already satisfied: numpy>=1.15.0 in /home/michal/anaconda3/lib/python3.9/site-packages (from spacy[transformers]) (1.21.5)\n",
      "Requirement already satisfied: pathy>=0.10.0 in /home/michal/anaconda3/lib/python3.9/site-packages (from spacy[transformers]) (0.10.1)\n",
      "Requirement already satisfied: wasabi<1.2.0,>=0.9.1 in /home/michal/anaconda3/lib/python3.9/site-packages (from spacy[transformers]) (1.1.1)\n",
      "Requirement already satisfied: catalogue<2.1.0,>=2.0.6 in /home/michal/anaconda3/lib/python3.9/site-packages (from spacy[transformers]) (2.0.8)\n",
      "Requirement already satisfied: spacy-loggers<2.0.0,>=1.0.0 in /home/michal/anaconda3/lib/python3.9/site-packages (from spacy[transformers]) (1.0.4)\n",
      "Requirement already satisfied: packaging>=20.0 in /home/michal/anaconda3/lib/python3.9/site-packages (from spacy[transformers]) (21.3)\n",
      "Requirement already satisfied: typer<0.8.0,>=0.3.0 in /home/michal/anaconda3/lib/python3.9/site-packages (from spacy[transformers]) (0.7.0)\n",
      "Requirement already satisfied: requests<3.0.0,>=2.13.0 in /home/michal/anaconda3/lib/python3.9/site-packages (from spacy[transformers]) (2.27.1)\n",
      "Requirement already satisfied: langcodes<4.0.0,>=3.2.0 in /home/michal/anaconda3/lib/python3.9/site-packages (from spacy[transformers]) (3.3.0)\n",
      "Requirement already satisfied: jinja2 in /home/michal/anaconda3/lib/python3.9/site-packages (from spacy[transformers]) (2.11.3)\n",
      "Requirement already satisfied: srsly<3.0.0,>=2.4.3 in /home/michal/anaconda3/lib/python3.9/site-packages (from spacy[transformers]) (2.4.6)\n",
      "Requirement already satisfied: tqdm<5.0.0,>=4.38.0 in /home/michal/anaconda3/lib/python3.9/site-packages (from spacy[transformers]) (4.64.0)\n",
      "Requirement already satisfied: smart-open<7.0.0,>=5.2.1 in /home/michal/anaconda3/lib/python3.9/site-packages (from spacy[transformers]) (6.3.0)\n",
      "Requirement already satisfied: spacy-transformers<1.3.0,>=1.1.2 in /home/michal/anaconda3/lib/python3.9/site-packages (from spacy[transformers]) (1.2.3)\n",
      "Requirement already satisfied: pyparsing!=3.0.5,>=2.0.2 in /home/michal/anaconda3/lib/python3.9/site-packages (from packaging>=20.0->spacy[transformers]) (3.0.4)\n",
      "Requirement already satisfied: typing-extensions>=4.2.0 in /home/michal/anaconda3/lib/python3.9/site-packages (from pydantic!=1.8,!=1.8.1,<1.11.0,>=1.7.4->spacy[transformers]) (4.4.0)\n",
      "Requirement already satisfied: charset-normalizer~=2.0.0 in /home/michal/anaconda3/lib/python3.9/site-packages (from requests<3.0.0,>=2.13.0->spacy[transformers]) (2.0.4)\n",
      "Requirement already satisfied: idna<4,>=2.5 in /home/michal/anaconda3/lib/python3.9/site-packages (from requests<3.0.0,>=2.13.0->spacy[transformers]) (3.3)\n",
      "Requirement already satisfied: urllib3<1.27,>=1.21.1 in /home/michal/anaconda3/lib/python3.9/site-packages (from requests<3.0.0,>=2.13.0->spacy[transformers]) (1.26.9)\n",
      "Requirement already satisfied: certifi>=2017.4.17 in /home/michal/anaconda3/lib/python3.9/site-packages (from requests<3.0.0,>=2.13.0->spacy[transformers]) (2021.10.8)\n",
      "Requirement already satisfied: torch>=1.8.0 in /home/michal/anaconda3/lib/python3.9/site-packages (from spacy-transformers<1.3.0,>=1.1.2->spacy[transformers]) (2.0.0)\n",
      "Requirement already satisfied: spacy-alignments<1.0.0,>=0.7.2 in /home/michal/anaconda3/lib/python3.9/site-packages (from spacy-transformers<1.3.0,>=1.1.2->spacy[transformers]) (0.9.0)\n",
      "Requirement already satisfied: transformers<4.29.0,>=3.4.0 in /home/michal/anaconda3/lib/python3.9/site-packages (from spacy-transformers<1.3.0,>=1.1.2->spacy[transformers]) (4.27.1)\n",
      "Requirement already satisfied: blis<0.8.0,>=0.7.8 in /home/michal/anaconda3/lib/python3.9/site-packages (from thinc<8.2.0,>=8.1.8->spacy[transformers]) (0.7.9)\n",
      "Requirement already satisfied: confection<1.0.0,>=0.0.1 in /home/michal/anaconda3/lib/python3.9/site-packages (from thinc<8.2.0,>=8.1.8->spacy[transformers]) (0.0.4)\n",
      "Requirement already satisfied: filelock in /home/michal/anaconda3/lib/python3.9/site-packages (from torch>=1.8.0->spacy-transformers<1.3.0,>=1.1.2->spacy[transformers]) (3.6.0)\n",
      "Requirement already satisfied: triton==2.0.0 in /home/michal/anaconda3/lib/python3.9/site-packages (from torch>=1.8.0->spacy-transformers<1.3.0,>=1.1.2->spacy[transformers]) (2.0.0)\n",
      "Requirement already satisfied: nvidia-cudnn-cu11==8.5.0.96 in /home/michal/anaconda3/lib/python3.9/site-packages (from torch>=1.8.0->spacy-transformers<1.3.0,>=1.1.2->spacy[transformers]) (8.5.0.96)\n",
      "Requirement already satisfied: nvidia-nccl-cu11==2.14.3 in /home/michal/anaconda3/lib/python3.9/site-packages (from torch>=1.8.0->spacy-transformers<1.3.0,>=1.1.2->spacy[transformers]) (2.14.3)\n",
      "Requirement already satisfied: nvidia-curand-cu11==10.2.10.91 in /home/michal/anaconda3/lib/python3.9/site-packages (from torch>=1.8.0->spacy-transformers<1.3.0,>=1.1.2->spacy[transformers]) (10.2.10.91)\n",
      "Requirement already satisfied: nvidia-cusolver-cu11==11.4.0.1 in /home/michal/anaconda3/lib/python3.9/site-packages (from torch>=1.8.0->spacy-transformers<1.3.0,>=1.1.2->spacy[transformers]) (11.4.0.1)\n",
      "Requirement already satisfied: sympy in /home/michal/anaconda3/lib/python3.9/site-packages (from torch>=1.8.0->spacy-transformers<1.3.0,>=1.1.2->spacy[transformers]) (1.10.1)\n",
      "Requirement already satisfied: nvidia-cublas-cu11==11.10.3.66 in /home/michal/anaconda3/lib/python3.9/site-packages (from torch>=1.8.0->spacy-transformers<1.3.0,>=1.1.2->spacy[transformers]) (11.10.3.66)\n",
      "Requirement already satisfied: nvidia-cufft-cu11==10.9.0.58 in /home/michal/anaconda3/lib/python3.9/site-packages (from torch>=1.8.0->spacy-transformers<1.3.0,>=1.1.2->spacy[transformers]) (10.9.0.58)\n",
      "Requirement already satisfied: nvidia-cuda-runtime-cu11==11.7.99 in /home/michal/anaconda3/lib/python3.9/site-packages (from torch>=1.8.0->spacy-transformers<1.3.0,>=1.1.2->spacy[transformers]) (11.7.99)\n",
      "Requirement already satisfied: nvidia-cusparse-cu11==11.7.4.91 in /home/michal/anaconda3/lib/python3.9/site-packages (from torch>=1.8.0->spacy-transformers<1.3.0,>=1.1.2->spacy[transformers]) (11.7.4.91)\n",
      "Requirement already satisfied: nvidia-nvtx-cu11==11.7.91 in /home/michal/anaconda3/lib/python3.9/site-packages (from torch>=1.8.0->spacy-transformers<1.3.0,>=1.1.2->spacy[transformers]) (11.7.91)\n",
      "Requirement already satisfied: networkx in /home/michal/anaconda3/lib/python3.9/site-packages (from torch>=1.8.0->spacy-transformers<1.3.0,>=1.1.2->spacy[transformers]) (2.7.1)\n",
      "Requirement already satisfied: nvidia-cuda-cupti-cu11==11.7.101 in /home/michal/anaconda3/lib/python3.9/site-packages (from torch>=1.8.0->spacy-transformers<1.3.0,>=1.1.2->spacy[transformers]) (11.7.101)\n",
      "Requirement already satisfied: nvidia-cuda-nvrtc-cu11==11.7.99 in /home/michal/anaconda3/lib/python3.9/site-packages (from torch>=1.8.0->spacy-transformers<1.3.0,>=1.1.2->spacy[transformers]) (11.7.99)\n",
      "Requirement already satisfied: wheel in /home/michal/anaconda3/lib/python3.9/site-packages (from nvidia-cublas-cu11==11.10.3.66->torch>=1.8.0->spacy-transformers<1.3.0,>=1.1.2->spacy[transformers]) (0.37.1)\n",
      "Requirement already satisfied: lit in /home/michal/anaconda3/lib/python3.9/site-packages (from triton==2.0.0->torch>=1.8.0->spacy-transformers<1.3.0,>=1.1.2->spacy[transformers]) (15.0.7)\n",
      "Requirement already satisfied: cmake in /home/michal/anaconda3/lib/python3.9/site-packages (from triton==2.0.0->torch>=1.8.0->spacy-transformers<1.3.0,>=1.1.2->spacy[transformers]) (3.26.0)\n"
     ]
    },
    {
     "name": "stdout",
     "output_type": "stream",
     "text": [
      "Requirement already satisfied: huggingface-hub<1.0,>=0.11.0 in /home/michal/anaconda3/lib/python3.9/site-packages (from transformers<4.29.0,>=3.4.0->spacy-transformers<1.3.0,>=1.1.2->spacy[transformers]) (0.13.2)\n",
      "Requirement already satisfied: regex!=2019.12.17 in /home/michal/anaconda3/lib/python3.9/site-packages (from transformers<4.29.0,>=3.4.0->spacy-transformers<1.3.0,>=1.1.2->spacy[transformers]) (2022.3.15)\n",
      "Requirement already satisfied: pyyaml>=5.1 in /home/michal/anaconda3/lib/python3.9/site-packages (from transformers<4.29.0,>=3.4.0->spacy-transformers<1.3.0,>=1.1.2->spacy[transformers]) (6.0)\n",
      "Requirement already satisfied: tokenizers!=0.11.3,<0.14,>=0.11.1 in /home/michal/anaconda3/lib/python3.9/site-packages (from transformers<4.29.0,>=3.4.0->spacy-transformers<1.3.0,>=1.1.2->spacy[transformers]) (0.13.2)\n",
      "Requirement already satisfied: click<9.0.0,>=7.1.1 in /home/michal/anaconda3/lib/python3.9/site-packages (from typer<0.8.0,>=0.3.0->spacy[transformers]) (8.0.4)\n",
      "Requirement already satisfied: MarkupSafe>=0.23 in /home/michal/anaconda3/lib/python3.9/site-packages (from jinja2->spacy[transformers]) (2.0.1)\n",
      "Requirement already satisfied: mpmath>=0.19 in /home/michal/anaconda3/lib/python3.9/site-packages (from sympy->torch>=1.8.0->spacy-transformers<1.3.0,>=1.1.2->spacy[transformers]) (1.2.1)\n"
     ]
    }
   ],
   "source": [
    "! pip install spacy[transformers]"
   ]
  },
  {
   "cell_type": "markdown",
   "id": "4a65a2ce",
   "metadata": {},
   "source": [
    "### prepare training data\n",
    "prepare NER training data using doccano tool\n",
    "it should look like samples.json"
   ]
  },
  {
   "cell_type": "code",
   "execution_count": 33,
   "id": "dd9e78b6",
   "metadata": {},
   "outputs": [],
   "source": [
    "from spacy.util import filter_spans\n",
    "import json\n",
    "import spacy\n",
    "from spacy.tokens import DocBin\n",
    "from tqdm import tqdm"
   ]
  },
  {
   "cell_type": "code",
   "execution_count": 34,
   "id": "50ec9bd4",
   "metadata": {},
   "outputs": [
    {
     "name": "stdout",
     "output_type": "stream",
     "text": [
      "{'id': 6302, 'text': 'Yes, it is a product', 'label': [[13, 20, 'PRODUCT']], 'Comments': []}\n"
     ]
    }
   ],
   "source": [
    "with open('samples.json', 'r') as f:\n",
    "    data = json.load(f)\n",
    "    \n",
    "print(data[0])"
   ]
  },
  {
   "cell_type": "code",
   "execution_count": 35,
   "id": "6615b6fc",
   "metadata": {},
   "outputs": [
    {
     "name": "stdout",
     "output_type": "stream",
     "text": [
      "{'text': 'Yes, sure, it is a product', 'entities': [(19, 26, 'PRODUCT')]}\n"
     ]
    }
   ],
   "source": [
    "training_data = {\n",
    "    'classes' : ['PRODUCT', \"SERVICE\", \"PROCESS\"],\n",
    "    'annotations' : []\n",
    "}\n",
    "\n",
    "for example in data:\n",
    "  data = {}\n",
    "  data['text'] = example['text']\n",
    "  data['entities'] = []\n",
    "\n",
    "  for annotation in example['label']:\n",
    "    start = annotation[0]\n",
    "    end = annotation[1]\n",
    "    label = annotation[2]\n",
    "    data['entities'].append((start, end, label))\n",
    "  training_data['annotations'].append(temp_dict)\n",
    "  \n",
    "print(training_data['annotations'][2])"
   ]
  },
  {
   "cell_type": "code",
   "execution_count": 36,
   "id": "b1122921",
   "metadata": {},
   "outputs": [],
   "source": [
    "nlp = spacy.blank(\"en\") \n",
    "\n",
    "doc_bin = DocBin()"
   ]
  },
  {
   "cell_type": "code",
   "execution_count": 37,
   "id": "04a9d92f",
   "metadata": {},
   "outputs": [
    {
     "name": "stderr",
     "output_type": "stream",
     "text": [
      "100%|██████████████████████████████████████████████████████████████████████████████████████████████████████████████████████████████████████████████████████████████████████| 4/4 [00:00<00:00, 2551.28it/s]\n"
     ]
    }
   ],
   "source": [
    "for training_row  in tqdm(training_data['annotations']): \n",
    "    text = training_row['text']\n",
    "    labels = training_row['entities']\n",
    "    doc = nlp.make_doc(text) \n",
    "    ents = []\n",
    "    for start, end, label in labels:\n",
    "        span = doc.char_span(start, end, label=label, alignment_mode=\"contract\")\n",
    "        if span is not None:\n",
    "            ents.append(span)\n",
    "    filtered_ents = filter_spans(ents)\n",
    "    doc.ents = filtered_ents \n",
    "    doc_bin.add(doc)\n",
    "\n",
    "    \n",
    "doc_bin.to_disk(\"training.spacy\")"
   ]
  },
  {
   "cell_type": "markdown",
   "id": "fd0a1434",
   "metadata": {},
   "source": [
    "### run commands for training model"
   ]
  },
  {
   "cell_type": "code",
   "execution_count": 38,
   "id": "bc16a921",
   "metadata": {},
   "outputs": [
    {
     "name": "stdout",
     "output_type": "stream",
     "text": [
      "2023-05-19 16:13:12.288015: I tensorflow/core/platform/cpu_feature_guard.cc:193] This TensorFlow binary is optimized with oneAPI Deep Neural Network Library (oneDNN) to use the following CPU instructions in performance-critical operations:  AVX2 FMA\n",
      "To enable them in other operations, rebuild TensorFlow with the appropriate compiler flags.\n",
      "2023-05-19 16:13:12.976367: W tensorflow/compiler/xla/stream_executor/platform/default/dso_loader.cc:64] Could not load dynamic library 'libnvinfer.so.7'; dlerror: libnvinfer.so.7: cannot open shared object file: No such file or directory\n",
      "2023-05-19 16:13:12.976418: W tensorflow/compiler/xla/stream_executor/platform/default/dso_loader.cc:64] Could not load dynamic library 'libnvinfer_plugin.so.7'; dlerror: libnvinfer_plugin.so.7: cannot open shared object file: No such file or directory\n",
      "2023-05-19 16:13:12.976425: W tensorflow/compiler/tf2tensorrt/utils/py_utils.cc:38] TF-TRT Warning: Cannot dlopen some TensorRT libraries. If you would like to use Nvidia GPU with TensorRT, please make sure the missing libraries mentioned above are installed properly.\n",
      "2023-05-19 16:13:13.720159: W tensorflow/compiler/xla/stream_executor/platform/default/dso_loader.cc:64] Could not load dynamic library 'libcuda.so.1'; dlerror: libcuda.so.1: cannot open shared object file: No such file or directory\n",
      "2023-05-19 16:13:13.720183: W tensorflow/compiler/xla/stream_executor/cuda/cuda_driver.cc:265] failed call to cuInit: UNKNOWN ERROR (303)\n",
      "2023-05-19 16:13:13.720198: I tensorflow/compiler/xla/stream_executor/cuda/cuda_diagnostics.cc:156] kernel driver does not appear to be running on this host (michal-ThinkPad-E14-Gen-3): /proc/driver/nvidia/version does not exist\n",
      "\u001b[38;5;2m✔ Auto-filled config with all values\u001b[0m\n",
      "\u001b[38;5;2m✔ Saved config\u001b[0m\n",
      "config.cfg\n",
      "You can now add your data and train your pipeline:\n",
      "python -m spacy train config.cfg --paths.train ./train.spacy --paths.dev ./dev.spacy\n",
      "2023-05-19 16:13:16.582760: I tensorflow/core/platform/cpu_feature_guard.cc:193] This TensorFlow binary is optimized with oneAPI Deep Neural Network Library (oneDNN) to use the following CPU instructions in performance-critical operations:  AVX2 FMA\n",
      "To enable them in other operations, rebuild TensorFlow with the appropriate compiler flags.\n",
      "2023-05-19 16:13:17.262624: W tensorflow/compiler/xla/stream_executor/platform/default/dso_loader.cc:64] Could not load dynamic library 'libnvinfer.so.7'; dlerror: libnvinfer.so.7: cannot open shared object file: No such file or directory\n",
      "2023-05-19 16:13:17.262682: W tensorflow/compiler/xla/stream_executor/platform/default/dso_loader.cc:64] Could not load dynamic library 'libnvinfer_plugin.so.7'; dlerror: libnvinfer_plugin.so.7: cannot open shared object file: No such file or directory\n",
      "2023-05-19 16:13:17.262689: W tensorflow/compiler/tf2tensorrt/utils/py_utils.cc:38] TF-TRT Warning: Cannot dlopen some TensorRT libraries. If you would like to use Nvidia GPU with TensorRT, please make sure the missing libraries mentioned above are installed properly.\n",
      "2023-05-19 16:13:18.031286: W tensorflow/compiler/xla/stream_executor/platform/default/dso_loader.cc:64] Could not load dynamic library 'libcuda.so.1'; dlerror: libcuda.so.1: cannot open shared object file: No such file or directory\n",
      "2023-05-19 16:13:18.031309: W tensorflow/compiler/xla/stream_executor/cuda/cuda_driver.cc:265] failed call to cuInit: UNKNOWN ERROR (303)\n",
      "2023-05-19 16:13:18.031325: I tensorflow/compiler/xla/stream_executor/cuda/cuda_diagnostics.cc:156] kernel driver does not appear to be running on this host (michal-ThinkPad-E14-Gen-3): /proc/driver/nvidia/version does not exist\n",
      "\u001b[38;5;4mℹ Saving to output directory: .\u001b[0m\n",
      "\u001b[38;5;4mℹ Using CPU\u001b[0m\n",
      "\u001b[1m\n",
      "=========================== Initializing pipeline ===========================\u001b[0m\n",
      "[2023-05-19 16:13:18,706] [INFO] Set up nlp object from config\n",
      "[2023-05-19 16:13:18,714] [INFO] Pipeline: ['tok2vec', 'ner']\n",
      "[2023-05-19 16:13:18,717] [INFO] Created vocabulary\n",
      "[2023-05-19 16:13:18,717] [INFO] Finished initializing nlp object\n",
      "[2023-05-19 16:13:18,769] [INFO] Initialized pipeline components: ['tok2vec', 'ner']\n",
      "\u001b[38;5;2m✔ Initialized pipeline\u001b[0m\n",
      "\u001b[1m\n",
      "============================= Training pipeline =============================\u001b[0m\n",
      "\u001b[38;5;4mℹ Pipeline: ['tok2vec', 'ner']\u001b[0m\n",
      "\u001b[38;5;4mℹ Initial learn rate: 0.001\u001b[0m\n",
      "E    #       LOSS TOK2VEC  LOSS NER  ENTS_F  ENTS_P  ENTS_R  SCORE \n",
      "---  ------  ------------  --------  ------  ------  ------  ------\n",
      "  0       0          0.00     16.67    0.00    0.00    0.00    0.00\n",
      "200     200          0.19    169.39  100.00  100.00  100.00    1.00\n",
      "400     400          0.00      0.00  100.00  100.00  100.00    1.00\n",
      "600     600          0.00      0.00  100.00  100.00  100.00    1.00\n",
      "800     800          0.00      0.00  100.00  100.00  100.00    1.00\n",
      "1000    1000          0.00      0.00  100.00  100.00  100.00    1.00\n",
      "1200    1200          0.00      0.00  100.00  100.00  100.00    1.00\n",
      "1400    1400          0.00      0.00  100.00  100.00  100.00    1.00\n",
      "1600    1600          0.00      0.00  100.00  100.00  100.00    1.00\n",
      "1800    1800          0.00      0.00  100.00  100.00  100.00    1.00\n",
      "\u001b[38;5;2m✔ Saved pipeline to output directory\u001b[0m\n",
      "model-last\n"
     ]
    }
   ],
   "source": [
    "!python -m spacy init fill-config base_config.cfg config.cfg\n",
    "\n",
    "!python -m spacy train config.cfg --output ./ --paths.train ./training.spacy --paths.dev ./training.spacy"
   ]
  },
  {
   "cell_type": "code",
   "execution_count": 39,
   "id": "79e03a67",
   "metadata": {},
   "outputs": [
    {
     "data": {
      "text/html": [
       "<span class=\"tex2jax_ignore\"><div class=\"entities\" style=\"line-height: 2.5; direction: ltr\">It’s a complicated question, but let’s start with a \n",
       "<mark class=\"entity\" style=\"background: #F67DE3; padding: 0.45em 0.6em; margin: 0 0.25em; line-height: 1; border-radius: 0.35em;\">\n",
       "    product\n",
       "    <span style=\"font-size: 0.8em; font-weight: bold; line-height: 1; border-radius: 0.35em; vertical-align: middle; margin-left: 0.5rem\">PRODUCT</span>\n",
       "</mark>\n",
       ". It’s a complicated question, but let’s start with a service. It’s a complicated question, but let’s start with a \n",
       "<mark class=\"entity\" style=\"background: #F67DE3; padding: 0.45em 0.6em; margin: 0 0.25em; line-height: 1; border-radius: 0.35em;\">\n",
       "    process\n",
       "    <span style=\"font-size: 0.8em; font-weight: bold; line-height: 1; border-radius: 0.35em; vertical-align: middle; margin-left: 0.5rem\">PRODUCT</span>\n",
       "</mark>\n",
       "</div></span>"
      ],
      "text/plain": [
       "<IPython.core.display.HTML object>"
      ]
     },
     "metadata": {},
     "output_type": "display_data"
    }
   ],
   "source": [
    "nlp_ner = spacy.load(\"model-best\")\n",
    "\n",
    "doc = nlp_ner(\"It’s a complicated question, but let’s start with a product. It’s a complicated question, but let’s start with a service. It’s a complicated question, but let’s start with a process\")\n",
    "\n",
    "colors = {\"PRODUCT\": \"#F67DE3\", \"MSERVICE\": \"#7DF6D9\", \"PROCESS\":\"#FFFFFF\"}\n",
    "options = {\"colors\": colors} \n",
    "\n",
    "spacy.displacy.render(doc, style=\"ent\", options= options, jupyter=True)"
   ]
  },
  {
   "cell_type": "code",
   "execution_count": null,
   "id": "5a3498f8",
   "metadata": {},
   "outputs": [],
   "source": []
  },
  {
   "cell_type": "code",
   "execution_count": null,
   "id": "6d2db9b7",
   "metadata": {},
   "outputs": [],
   "source": []
  }
 ],
 "metadata": {
  "kernelspec": {
   "display_name": "Python 3 (ipykernel)",
   "language": "python",
   "name": "python3"
  },
  "language_info": {
   "codemirror_mode": {
    "name": "ipython",
    "version": 3
   },
   "file_extension": ".py",
   "mimetype": "text/x-python",
   "name": "python",
   "nbconvert_exporter": "python",
   "pygments_lexer": "ipython3",
   "version": "3.9.12"
  }
 },
 "nbformat": 4,
 "nbformat_minor": 5
}
